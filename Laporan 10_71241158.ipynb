{
 "cells": [
  {
   "cell_type": "code",
   "execution_count": 10,
   "id": "9f701607-bf25-4e29-be8b-b65b3cc5eaf3",
   "metadata": {},
   "outputs": [
    {
     "name": "stdout",
     "output_type": "stream",
     "text": [
      "Tung-Tung Sahur\n"
     ]
    }
   ],
   "source": [
    "#Contoh 1\n",
    "ipk = [3.43, 3.55, 4.00, 3.60, 3.22, 3.00, 2.71]\n",
    "nama_artis = [\"Andika\", \"Ayu Ginting\", \"Agus\", \"Tung-Tung Sahur\"]\n",
    "bentuk_campuran = [\"Alpro\", 60, 2.71, False]\n",
    "list_inside_list = [2.72, [3.00, 3.30], 3.5]\n",
    "\n",
    "print(nama_artis[3])"
   ]
  },
  {
   "cell_type": "code",
   "execution_count": 32,
   "id": "6431e81e-818f-466d-bb46-8a029e016415",
   "metadata": {},
   "outputs": [
    {
     "name": "stdout",
     "output_type": "stream",
     "text": [
      "Data sebelum diubah: [13, 6, 31, 14]\n",
      "Data setelah diubah: [5.2, 6, 31, 14]\n"
     ]
    }
   ],
   "source": [
    "#Contoh 2\n",
    "data = [13, 6, 31, 14]\n",
    "print(\"Data sebelum diubah:\", data)\n",
    "data[0] = 5.2\n",
    "print(\"Data setelah diubah:\", data)"
   ]
  },
  {
   "cell_type": "code",
   "execution_count": 36,
   "id": "9ae30a10-5db5-423e-a9f2-76ec73e0ccb7",
   "metadata": {},
   "outputs": [
    {
     "ename": "TypeError",
     "evalue": "'str' object does not support item assignment",
     "output_type": "error",
     "traceback": [
      "\u001b[1;31m---------------------------------------------------------------------------\u001b[0m",
      "\u001b[1;31mTypeError\u001b[0m                                 Traceback (most recent call last)",
      "Cell \u001b[1;32mIn[36], line 3\u001b[0m\n\u001b[0;32m      1\u001b[0m \u001b[38;5;66;03m#Contoh 3\u001b[39;00m\n\u001b[0;32m      2\u001b[0m name \u001b[38;5;241m=\u001b[39m \u001b[38;5;124m\"\u001b[39m\u001b[38;5;124mKamisato Ayaka\u001b[39m\u001b[38;5;124m\"\u001b[39m\n\u001b[1;32m----> 3\u001b[0m name[\u001b[38;5;241m0\u001b[39m] \u001b[38;5;241m=\u001b[39m \u001b[38;5;124m\"\u001b[39m\u001b[38;5;124mRaiden Ei\u001b[39m\u001b[38;5;124m\"\u001b[39m\n\u001b[0;32m      4\u001b[0m \u001b[38;5;28mprint\u001b[39m(name)\n",
      "\u001b[1;31mTypeError\u001b[0m: 'str' object does not support item assignment"
     ]
    }
   ],
   "source": [
    "#Contoh 3\n",
    "name = \"Kamisato Ayaka\"\n",
    "name[0] = \"Raiden Ei\"\n",
    "print(name)"
   ]
  },
  {
   "cell_type": "code",
   "execution_count": 42,
   "id": "428ea3bc-f171-4940-b1ac-fe86e09db141",
   "metadata": {},
   "outputs": [
    {
     "data": {
      "text/plain": [
       "True"
      ]
     },
     "execution_count": 42,
     "metadata": {},
     "output_type": "execute_result"
    }
   ],
   "source": [
    "#Conoth 4\n",
    "a = \"Bandung\"\n",
    "b = \"Bandung\"\n",
    "a is b"
   ]
  },
  {
   "cell_type": "code",
   "execution_count": 44,
   "id": "c38e104e-4120-4139-9d8c-7fd72faf8e1f",
   "metadata": {},
   "outputs": [
    {
     "data": {
      "text/plain": [
       "False"
      ]
     },
     "execution_count": 44,
     "metadata": {},
     "output_type": "execute_result"
    }
   ],
   "source": [
    "#Contoh 5\n",
    "a = [9, 1, 1]\n",
    "b = [9, 1, 1]\n",
    "a is b"
   ]
  },
  {
   "cell_type": "code",
   "execution_count": 2,
   "id": "79e1d4b9-4d18-49f0-9322-26842e3ecd7c",
   "metadata": {},
   "outputs": [
    {
     "data": {
      "text/plain": [
       "False"
      ]
     },
     "execution_count": 2,
     "metadata": {},
     "output_type": "execute_result"
    }
   ],
   "source": [
    "# Coba\n",
    "a = [\"Bandung\"]\n",
    "b = [\"Bandung\"]\n",
    "a is b"
   ]
  },
  {
   "cell_type": "code",
   "execution_count": 50,
   "id": "cc646be2-421d-44a1-87e4-5725cd4b722b",
   "metadata": {},
   "outputs": [
    {
     "name": "stdout",
     "output_type": "stream",
     "text": [
      "Tanah Liat\n",
      "Semen Acian\n",
      "['Semen Acian']\n",
      "['Batako', 'Tanah Liat', 'Semen Acian']\n",
      "['Batako', 'Bakso', 'Mie Ayam', 'Teralis', 'Baja Ringan', 'Koral']\n"
     ]
    }
   ],
   "source": [
    "#Contoh 6\n",
    "Listnya = [\"Batako\", \"Tanah Liat\", \"Semen Acian\"]\n",
    "print(Listnya[1])\n",
    "print(Listnya[-1])\n",
    "print(Listnya[2:5])\n",
    "print(Listnya[:4])\n",
    "\n",
    "Listnya[1] = \"Bakso\"\n",
    "\n",
    "Listnya2 = [\"Batako\", \"Tanah Liat\", \"Semen Acian\", \"Teralis\", \"Baja Ringan\", \"Koral\"]\n",
    "Listnya2[1:3] = [\"Bakso\", \"Mie Ayam\"]\n",
    "print(Listnya2)"
   ]
  },
  {
   "cell_type": "code",
   "execution_count": 4,
   "id": "6f74939e-b387-4ade-b8c4-f4d43cff555e",
   "metadata": {},
   "outputs": [
    {
     "name": "stdout",
     "output_type": "stream",
     "text": [
      "[5, 10, 15, 20, 25]\n",
      "[60, 70, 80]\n",
      "[5, 10, 15, 20, 25, 60, 70, 80]\n",
      "[5, 10, 15, 20, 25, 5, 10, 15, 20, 25]\n"
     ]
    }
   ],
   "source": [
    "#Contoh 7\n",
    "list_ini = [5, 10, 15, 20, 25]\n",
    "list_itu = [60 , 70, 80]\n",
    "\n",
    "list_lain = list_ini + list_itu\n",
    "list_baru = list_ini * 2\n",
    "\n",
    "print(list_ini)\n",
    "print(list_itu)\n",
    "print(list_lain)\n",
    "print(list_baru)"
   ]
  },
  {
   "cell_type": "code",
   "execution_count": 72,
   "id": "84191bd3-5747-4c09-8cf3-f3881117df3b",
   "metadata": {},
   "outputs": [
    {
     "name": "stdout",
     "output_type": "stream",
     "text": [
      "['Semen', 'Tanah liat', 'Batako']\n",
      "['Semen', 'Tanah liat', 'Batako', ['Besi', 'Galvanized Square Steel']]\n"
     ]
    }
   ],
   "source": [
    "#Contoh 8 (Append)\n",
    "nama = [\"Semen\", \"Tanah liat\", \"Batako\"]\n",
    "print(nama)\n",
    "nama.append([\"Besi\", \"Galvanized Square Steel\"])\n",
    "print(nama)"
   ]
  },
  {
   "cell_type": "code",
   "execution_count": 74,
   "id": "9cc9d5c4-680c-415b-b4ce-73f589be53b7",
   "metadata": {},
   "outputs": [
    {
     "name": "stdout",
     "output_type": "stream",
     "text": [
      "['Semen', 'Tanah liat', 'Batako']\n",
      "['Semen', 'Tanah liat', 'Batako', 'Besi', 'Galvanized Square Steel']\n"
     ]
    }
   ],
   "source": [
    "#Contoh 9 (Extend)\n",
    "nama = [\"Semen\", \"Tanah liat\", \"Batako\"]\n",
    "print(nama)\n",
    "nama.extend([\"Besi\", \"Galvanized Square Steel\"])\n",
    "print(nama)"
   ]
  },
  {
   "cell_type": "code",
   "execution_count": 78,
   "id": "a3bf82c3-5b0f-4c34-beb3-e32a8d2d71d8",
   "metadata": {},
   "outputs": [
    {
     "name": "stdout",
     "output_type": "stream",
     "text": [
      "['Semen', 'Tanah liat', 'Batako']\n",
      "['Batako', 'Semen', 'Tanah liat']\n"
     ]
    }
   ],
   "source": [
    "#Contoh 10 (Sort)\n",
    "nama = [\"Semen\", \"Tanah liat\", \"Batako\"]\n",
    "print(nama)\n",
    "nama.sort()\n",
    "print(nama)"
   ]
  },
  {
   "cell_type": "code",
   "execution_count": 12,
   "id": "1cdda98f-cb67-48b4-9bbf-41431e9cce89",
   "metadata": {},
   "outputs": [
    {
     "name": "stdout",
     "output_type": "stream",
     "text": [
      "['Semen', 'Tanah liatBesi', 'Batako']\n"
     ]
    },
    {
     "data": {
      "text/plain": [
       "'Tanah liatBesi'"
      ]
     },
     "execution_count": 12,
     "metadata": {},
     "output_type": "execute_result"
    }
   ],
   "source": [
    "#Contoh 11 (Pop)\n",
    "nama = [\"Semen\", \"Tanah liat\" \"Besi\", \"Batako\"]\n",
    "print(nama)\n",
    "nama.pop(1)"
   ]
  },
  {
   "cell_type": "code",
   "execution_count": 14,
   "id": "484bef7e-cb1a-407e-825a-97232443c78f",
   "metadata": {},
   "outputs": [
    {
     "name": "stdout",
     "output_type": "stream",
     "text": [
      "['Semen', 'Tanah liat', 'Batako']\n",
      "['Semen', 'Batako']\n"
     ]
    }
   ],
   "source": [
    "#Contoh 12 (Del)\n",
    "nama = [\"Semen\", \"Tanah liat\", \"Batako\"]\n",
    "print(nama)\n",
    "del nama[1]\n",
    "print(nama)"
   ]
  },
  {
   "cell_type": "code",
   "execution_count": 20,
   "id": "3c4131ba-5b4e-433e-8b7d-f08e0efdf228",
   "metadata": {},
   "outputs": [
    {
     "name": "stdout",
     "output_type": "stream",
     "text": [
      "['Semen', 'Tanah liat', 'Batako']\n",
      "['Semen', 'Batako']\n"
     ]
    }
   ],
   "source": [
    "#Contoh 13 (Remove)\n",
    "nama = [\"Semen\", \"Tanah liat\", \"Batako\"]\n",
    "print(nama)\n",
    "nama.remove(\"Tanah liat\")\n",
    "print(nama)"
   ]
  },
  {
   "cell_type": "code",
   "execution_count": 22,
   "id": "63d79c86-2b93-43db-955c-685b5284ccf6",
   "metadata": {},
   "outputs": [
    {
     "name": "stdout",
     "output_type": "stream",
     "text": [
      "['Semen', 'Tanah liat', 'Batako']\n",
      "['Batako', 'Tanah liat', 'Semen']\n"
     ]
    }
   ],
   "source": [
    "#Contoh 14 (Reverse)\n",
    "nama = [\"Semen\", \"Tanah liat\", \"Batako\"]\n",
    "print(nama)\n",
    "nama.reverse()\n",
    "print(nama)"
   ]
  },
  {
   "cell_type": "code",
   "execution_count": 28,
   "id": "27449d04-782b-4691-ba88-ca406144b818",
   "metadata": {},
   "outputs": [
    {
     "data": {
      "text/plain": [
       "1"
      ]
     },
     "execution_count": 28,
     "metadata": {},
     "output_type": "execute_result"
    }
   ],
   "source": [
    "#Contoh 15 (min)\n",
    "jumlah = [5, 10, 15, 20, 1]\n",
    "min(jumlah)"
   ]
  },
  {
   "cell_type": "code",
   "execution_count": 30,
   "id": "7fb312f0-73df-409d-81ba-017a61a223c5",
   "metadata": {},
   "outputs": [
    {
     "data": {
      "text/plain": [
       "20"
      ]
     },
     "execution_count": 30,
     "metadata": {},
     "output_type": "execute_result"
    }
   ],
   "source": [
    "#Contoh 16 (max)\n",
    "jumlah = [5, 10, 15, 20, 1]\n",
    "max(jumlah)"
   ]
  },
  {
   "cell_type": "code",
   "execution_count": 32,
   "id": "09d4a4db-44e9-4025-a70b-89d86c1e5ea8",
   "metadata": {},
   "outputs": [
    {
     "data": {
      "text/plain": [
       "51"
      ]
     },
     "execution_count": 32,
     "metadata": {},
     "output_type": "execute_result"
    }
   ],
   "source": [
    "#Contoh 17 (sum)\n",
    "jumlah = [5, 10, 15, 20, 1]\n",
    "sum(jumlah)"
   ]
  },
  {
   "cell_type": "code",
   "execution_count": 34,
   "id": "247a3318-13f1-4640-bdac-72195dbf972f",
   "metadata": {},
   "outputs": [
    {
     "data": {
      "text/plain": [
       "5"
      ]
     },
     "execution_count": 34,
     "metadata": {},
     "output_type": "execute_result"
    }
   ],
   "source": [
    "#Contoh 18 (len)\n",
    "jumlah = [5, 10, 15, 20, 1]\n",
    "len(jumlah)"
   ]
  },
  {
   "cell_type": "code",
   "execution_count": 36,
   "id": "ccca1f8a-f6aa-4201-a34a-d501f1f19b1b",
   "metadata": {},
   "outputs": [
    {
     "name": "stdout",
     "output_type": "stream",
     "text": [
      "['Teralis', 'Koral']\n"
     ]
    }
   ],
   "source": [
    "#Contoh 19\n",
    "bahan = [\"Batako\", \"Tanah Liat\", \"Semen Acian\", \"Teralis\", \"Baja Ringan\", \"Koral\"]\n",
    "bahan_baru = [x for x in bahan if \"ra\" in x]\n",
    "print(bahan_baru)"
   ]
  },
  {
   "cell_type": "code",
   "execution_count": 38,
   "id": "5fbadfe4-82df-42e5-8cf0-ffb8eea8d862",
   "metadata": {},
   "outputs": [
    {
     "name": "stdout",
     "output_type": "stream",
     "text": [
      "['BATAKO', 'TANAH LIAT', 'SEMEN ACIAN', 'TERALIS', 'BAJA RINGAN', 'KORAL']\n"
     ]
    }
   ],
   "source": [
    "#Contoh 20\n",
    "bahan = [\"Batako\", \"Tanah Liat\", \"Semen Acian\", \"Teralis\", \"Baja Ringan\", \"Koral\"]\n",
    "bahan_ubah = [x.upper() for x in bahan]\n",
    "print(bahan_ubah)"
   ]
  },
  {
   "cell_type": "code",
   "execution_count": 40,
   "id": "56c416a4-889a-4c02-ad78-a7c9c7d0807e",
   "metadata": {},
   "outputs": [
    {
     "name": "stdout",
     "output_type": "stream",
     "text": [
      "['Tanah Liat', 'Semen Acian', 'Teralis', 'Baja Ringan']\n"
     ]
    }
   ],
   "source": [
    "#Contoh 21\n",
    "bahan = [\"Batako\", \"Tanah Liat\", \"Semen Acian\", \"Teralis\", \"Baja Ringan\", \"Koral\"]\n",
    "bahan_cek = [x for x in bahan if len(x) > 6]\n",
    "print(bahan_cek)"
   ]
  },
  {
   "cell_type": "code",
   "execution_count": 44,
   "id": "e9af2e43-f1d9-424b-9c15-3230cd060f72",
   "metadata": {},
   "outputs": [
    {
     "name": "stdout",
     "output_type": "stream",
     "text": [
      "['Satu', 'Dua', 'Tiga']\n",
      "['Satu', 'Dua', 'Boom']\n"
     ]
    }
   ],
   "source": [
    "#Contoh 22\n",
    "def ubah(data):\n",
    "    data[2] = \"Boom\"\n",
    "\n",
    "data = [\"Satu\", \"Dua\", \"Tiga\"]\n",
    "print(data)\n",
    "ubah(data)\n",
    "print(data)"
   ]
  },
  {
   "cell_type": "code",
   "execution_count": 46,
   "id": "2ff55a42-9222-4a14-a621-d46edd2c631d",
   "metadata": {},
   "outputs": [
    {
     "name": "stdout",
     "output_type": "stream",
     "text": [
      "['Boom', 'Satu', 'Dua']\n",
      "['Satu', 'Dua']\n"
     ]
    }
   ],
   "source": [
    "#Contoh 23\n",
    "def hapus(data):\n",
    "    return data[1:]\n",
    "\n",
    "data = [\"Boom\", \"Satu\", \"Dua\"]\n",
    "hapus(data)\n",
    "print(data)\n",
    "data = hapus(data)\n",
    "print(data)"
   ]
  },
  {
   "cell_type": "code",
   "execution_count": 50,
   "id": "18e226b5-1019-4c9e-854f-d1d172cee8c1",
   "metadata": {},
   "outputs": [
    {
     "name": "stdin",
     "output_type": "stream",
     "text": [
      "Masukkan angka-angka (pisahkan dengan spasi atau koma):  25 35 56\n"
     ]
    },
    {
     "name": "stdout",
     "output_type": "stream",
     "text": [
      "3 bilangan terbaik: [56, 35, 25]\n"
     ]
    }
   ],
   "source": [
    "#Soal 1\n",
    "def cari_tiga(angka):\n",
    "    hasil = sorted(angka, reverse=True)\n",
    "    return hasil[:3]\n",
    "\n",
    "masuk_angka = input(\"Masukkan angka-angka (pisahkan dengan spasi atau koma): \")\n",
    "\n",
    "inputan = masuk_angka.replace(',', ' ')\n",
    "\n",
    "bilangan = []\n",
    "for isi in inputan.split():\n",
    "    bilangan.append(int(isi))\n",
    "\n",
    "print(\"3 bilangan terbaik:\", cari_tiga(bilangan))"
   ]
  },
  {
   "cell_type": "code",
   "execution_count": 54,
   "id": "18534ddc-c090-4460-85fc-da25e47a52cc",
   "metadata": {},
   "outputs": [
    {
     "name": "stdin",
     "output_type": "stream",
     "text": [
      "Masukkan angka (ketik 'done' jika selesai):  88\n",
      "Masukkan angka (ketik 'done' jika selesai):  24\n",
      "Masukkan angka (ketik 'done' jika selesai):  40\n",
      "Masukkan angka (ketik 'done' jika selesai):  58\n",
      "Masukkan angka (ketik 'done' jika selesai):  done\n"
     ]
    },
    {
     "name": "stdout",
     "output_type": "stream",
     "text": [
      "Rata-rata dari bilangan yang dimasukkan adalah: 52.5\n"
     ]
    }
   ],
   "source": [
    "#Soal 2\n",
    "angka = []\n",
    "\n",
    "while True:\n",
    "    masukkan = input(\"Masukkan angka (ketik 'done' jika selesai): \")\n",
    "    \n",
    "    if masukkan.lower() == 'done':\n",
    "        break\n",
    "    \n",
    "    try:\n",
    "        angka.append(float(masukkan))\n",
    "    except ValueError:\n",
    "        print(\"Input tidak valid, masukkan angka atau 'done'.\")\n",
    "\n",
    "if len(angka) > 0:\n",
    "    rata_rata = sum(angka) / len(angka)\n",
    "    print(\"Rata-rata dari bilangan yang dimasukkan adalah:\", rata_rata)\n",
    "else:\n",
    "    print(\"Tidak ada input\")"
   ]
  },
  {
   "cell_type": "code",
   "execution_count": 56,
   "id": "e89bed08-bd9d-4410-85fe-322580538dc2",
   "metadata": {},
   "outputs": [
    {
     "name": "stdin",
     "output_type": "stream",
     "text": [
      "Masukkan nama file teks (misal: berita_ukdw.txt):  berita_ukdw.txt\n"
     ]
    },
    {
     "name": "stdout",
     "output_type": "stream",
     "text": [
      "File tidak ditemukan. Pastikan nama dan lokasi file sudah benar.\n"
     ]
    }
   ],
   "source": [
    "#Soal 3\n",
    "namafile = input(\"Masukkan nama file teks (misal: berita_ukdw.txt): \")\n",
    "\n",
    "try:\n",
    "    with open(namafile, 'r', encoding='utf-8') as file:\n",
    "        isi = file.read().lower()\n",
    "    for tanda in ['.', ',', ';', ':', '!', '?', '\"', \"'\", '(', ')', '-', '_']:\n",
    "        isi = isi.replace(tanda, ' ')\n",
    "    kata_kata = isi.split()\n",
    "\n",
    "    frekuensi = {}\n",
    "    for kata in kata_kata:\n",
    "        frekuensi[kata] = frekuensi.get(kata, 0) + 1\n",
    "\n",
    "    kata_unik = sorted([kata for kata in frekuensi if frekuensi[kata] == 1])\n",
    "    print(\"\\nKata-kata unik dalam artikel:\")\n",
    "    for kata in kata_unik:\n",
    "        print(kata)\n",
    "\n",
    "except FileNotFoundError:\n",
    "    print(\"File tidak ditemukan. Pastikan nama dan lokasi file sudah benar.\")"
   ]
  }
 ],
 "metadata": {
  "kernelspec": {
   "display_name": "Python [conda env:base] *",
   "language": "python",
   "name": "conda-base-py"
  },
  "language_info": {
   "codemirror_mode": {
    "name": "ipython",
    "version": 3
   },
   "file_extension": ".py",
   "mimetype": "text/x-python",
   "name": "python",
   "nbconvert_exporter": "python",
   "pygments_lexer": "ipython3",
   "version": "3.12.7"
  }
 },
 "nbformat": 4,
 "nbformat_minor": 5
}
