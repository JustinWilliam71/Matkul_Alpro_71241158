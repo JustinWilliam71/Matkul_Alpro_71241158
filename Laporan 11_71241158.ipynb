{
 "cells": [
  {
   "cell_type": "code",
   "execution_count": 2,
   "id": "0e8eeb40-6c90-4116-b4b8-8105986ee622",
   "metadata": {},
   "outputs": [
    {
     "name": "stdout",
     "output_type": "stream",
     "text": [
      "{}\n"
     ]
    }
   ],
   "source": [
    "# Contoh 1\n",
    "inivariabel = dict()\n",
    "print(inivariabel)"
   ]
  },
  {
   "cell_type": "code",
   "execution_count": null,
   "id": "087a4a2d-8fdf-4059-87e7-2d273a447ca7",
   "metadata": {},
   "outputs": [],
   "source": [
    "# Contoh 2\n",
    "inivariabel['satu'] = 'one'"
   ]
  },
  {
   "cell_type": "code",
   "execution_count": 6,
   "id": "3ef05f50-55d3-46d0-a16e-e3f446fc3b45",
   "metadata": {},
   "outputs": [
    {
     "name": "stdout",
     "output_type": "stream",
     "text": [
      "{'satu': 'one'}\n"
     ]
    }
   ],
   "source": [
    "# Contoh 3\n",
    "inivariabel['satu'] = 'one'\n",
    "print(inivariabel)"
   ]
  },
  {
   "cell_type": "code",
   "execution_count": 8,
   "id": "cd89f233-ba5b-4ae7-94d6-e05631852b96",
   "metadata": {},
   "outputs": [
    {
     "name": "stdout",
     "output_type": "stream",
     "text": [
      "{'satu': 'one', 'dua': 'two', 'tiga': 'three'}\n"
     ]
    }
   ],
   "source": [
    "# Contoh 4\n",
    "inivariabel = {'satu': 'one', 'dua': 'two', 'tiga': 'three'}\n",
    "print(inivariabel)"
   ]
  },
  {
   "cell_type": "code",
   "execution_count": 14,
   "id": "80cd652f-e246-4823-93be-8486d749639c",
   "metadata": {},
   "outputs": [
    {
     "name": "stdout",
     "output_type": "stream",
     "text": [
      "two\n"
     ]
    }
   ],
   "source": [
    "# Contoh 5\n",
    "inivariabel = {'satu': 'one', 'dua': 'two', 'tiga': 'three'}\n",
    "print(inivariabel['dua'])"
   ]
  },
  {
   "cell_type": "code",
   "execution_count": 16,
   "id": "28b250a8-59c3-4423-8862-27d4e04ce4c0",
   "metadata": {},
   "outputs": [
    {
     "ename": "KeyError",
     "evalue": "'empat'",
     "output_type": "error",
     "traceback": [
      "\u001b[1;31m---------------------------------------------------------------------------\u001b[0m",
      "\u001b[1;31mKeyError\u001b[0m                                  Traceback (most recent call last)",
      "Cell \u001b[1;32mIn[16], line 3\u001b[0m\n\u001b[0;32m      1\u001b[0m \u001b[38;5;66;03m# Contoh 6\u001b[39;00m\n\u001b[0;32m      2\u001b[0m inivariabel \u001b[38;5;241m=\u001b[39m {\u001b[38;5;124m'\u001b[39m\u001b[38;5;124msatu\u001b[39m\u001b[38;5;124m'\u001b[39m: \u001b[38;5;124m'\u001b[39m\u001b[38;5;124mone\u001b[39m\u001b[38;5;124m'\u001b[39m, \u001b[38;5;124m'\u001b[39m\u001b[38;5;124mdua\u001b[39m\u001b[38;5;124m'\u001b[39m: \u001b[38;5;124m'\u001b[39m\u001b[38;5;124mtwo\u001b[39m\u001b[38;5;124m'\u001b[39m, \u001b[38;5;124m'\u001b[39m\u001b[38;5;124mtiga\u001b[39m\u001b[38;5;124m'\u001b[39m: \u001b[38;5;124m'\u001b[39m\u001b[38;5;124mthree\u001b[39m\u001b[38;5;124m'\u001b[39m}\n\u001b[1;32m----> 3\u001b[0m \u001b[38;5;28mprint\u001b[39m(inivariabel[\u001b[38;5;124m'\u001b[39m\u001b[38;5;124mempat\u001b[39m\u001b[38;5;124m'\u001b[39m])\n",
      "\u001b[1;31mKeyError\u001b[0m: 'empat'"
     ]
    }
   ],
   "source": [
    "# Contoh 6\n",
    "inivariabel = {'satu': 'one', 'dua': 'two', 'tiga': 'three'}\n",
    "print(inivariabel['empat'])"
   ]
  },
  {
   "cell_type": "code",
   "execution_count": 18,
   "id": "4d0fe30e-4ab3-4b6b-b84c-95b9ba06e818",
   "metadata": {},
   "outputs": [
    {
     "data": {
      "text/plain": [
       "3"
      ]
     },
     "execution_count": 18,
     "metadata": {},
     "output_type": "execute_result"
    }
   ],
   "source": [
    "# Contoh 7\n",
    "inivariabel = {'satu': 'one', 'dua': 'two', 'tiga': 'three'}\n",
    "len(inivariabel)"
   ]
  },
  {
   "cell_type": "code",
   "execution_count": 26,
   "id": "ccfe0d37-09c9-47bd-a967-7f41db1c170c",
   "metadata": {},
   "outputs": [
    {
     "data": {
      "text/plain": [
       "True"
      ]
     },
     "execution_count": 26,
     "metadata": {},
     "output_type": "execute_result"
    }
   ],
   "source": [
    "# Contoh 8\n",
    "inivariabel = {'satu': 'one', 'dua': 'two', 'tiga': 'three'}\n",
    "'satu' in inivariabel"
   ]
  },
  {
   "cell_type": "code",
   "execution_count": 28,
   "id": "5dd69b7c-fd17-4218-8bb9-bca23fecc5ac",
   "metadata": {},
   "outputs": [
    {
     "data": {
      "text/plain": [
       "False"
      ]
     },
     "execution_count": 28,
     "metadata": {},
     "output_type": "execute_result"
    }
   ],
   "source": [
    "# Contoh 9\n",
    "inivariabel = {'satu': 'one', 'dua': 'two', 'tiga': 'three'}\n",
    "'one' in inivariabel"
   ]
  },
  {
   "cell_type": "code",
   "execution_count": 30,
   "id": "6b0e920a-7edf-4bda-ae28-2e2cee8e6c73",
   "metadata": {},
   "outputs": [
    {
     "data": {
      "text/plain": [
       "True"
      ]
     },
     "execution_count": 30,
     "metadata": {},
     "output_type": "execute_result"
    }
   ],
   "source": [
    "# Contoh 10\n",
    "inivariabel = {'satu': 'one', 'dua': 'two', 'tiga': 'three'}\n",
    "nilai = list(inivariabel.values())\n",
    "'one' in nilai"
   ]
  },
  {
   "cell_type": "code",
   "execution_count": 34,
   "id": "6edb52fa-a430-425a-afff-0ed9939a118c",
   "metadata": {},
   "outputs": [
    {
     "name": "stdout",
     "output_type": "stream",
     "text": [
      "{'F': 1, 'u': 1, 'l': 2, ' ': 1, 'P': 1, 'o': 1, 'w': 1, 'e': 1, 'r': 1}\n"
     ]
    }
   ],
   "source": [
    "# Contoh 11\n",
    "kata_kata = \"Full Power\"\n",
    "hd = dict()\n",
    "for kata in kata_kata:\n",
    "    if kata not in hd:\n",
    "        hd[kata] = 1\n",
    "    else:\n",
    "        hd[kata] = hd[kata] + 1\n",
    "\n",
    "print(hd)"
   ]
  },
  {
   "cell_type": "code",
   "execution_count": 12,
   "id": "c6b00220-2c1d-44d8-8d1c-8989278f20e1",
   "metadata": {},
   "outputs": [
    {
     "name": "stdout",
     "output_type": "stream",
     "text": [
      "15\n",
      "0\n"
     ]
    }
   ],
   "source": [
    "# Contoh 12\n",
    "hitung = {'tar': 15, 'mre': 12.3, 'rns': 80}\n",
    "print(hitung.get('tar', 0))\n",
    "print(hitung.get('jer', 0))"
   ]
  },
  {
   "cell_type": "code",
   "execution_count": 38,
   "id": "bac9704f-d34a-493c-9158-12f0e912980a",
   "metadata": {},
   "outputs": [
    {
     "name": "stdout",
     "output_type": "stream",
     "text": [
      "{'F': 1, 'u': 1, 'l': 2, ' ': 1, 'P': 1, 'o': 1, 'w': 1, 'e': 1, 'r': 1}\n"
     ]
    }
   ],
   "source": [
    "# Contoh 13\n",
    "kata_kata = \"Full Power\"\n",
    "hd = dict()\n",
    "for kata in kata_kata:\n",
    "    hd[kata] = hd.get(kata, 0) + 1\n",
    "\n",
    "print(hd)"
   ]
  },
  {
   "cell_type": "code",
   "execution_count": null,
   "id": "4a5a1d41-f412-4296-b477-45676bae537a",
   "metadata": {},
   "outputs": [],
   "source": [
    "# Contoh 14\n",
    "nama_file = input('Nama File: ')\n",
    "try:\n",
    "    buka = open(nama_file)\n",
    "except:\n",
    "    print('File tidak ada:', nama_file)\n",
    "    exit()\n",
    "\n",
    "hitung = dict()\n",
    "for baris in buka:\n",
    "    kata_kata = baris.split()\n",
    "    for kata in kata_kata:\n",
    "        if kata not in hitung:\n",
    "            hitung[kata] = 1\n",
    "        else:\n",
    "            hitung[kata] += 1\n",
    "\n",
    "print(hitung)"
   ]
  },
  {
   "cell_type": "code",
   "execution_count": 2,
   "id": "8da3843d-faac-47f6-895a-9a66b360fa75",
   "metadata": {
    "scrolled": true
   },
   "outputs": [
    {
     "name": "stdout",
     "output_type": "stream",
     "text": [
      "tar 15\n",
      "mre 12.3\n",
      "rns 80\n"
     ]
    }
   ],
   "source": [
    "# Contoh 15\n",
    "hitung = {'tar': 15, 'mre': 12.3, 'rns': 80}\n",
    "for kunci in hitung:\n",
    "    print(kunci, hitung[kunci])"
   ]
  },
  {
   "cell_type": "code",
   "execution_count": 10,
   "id": "cfe660e5-a864-4ad7-a8a9-6004c5442b13",
   "metadata": {},
   "outputs": [
    {
     "name": "stdout",
     "output_type": "stream",
     "text": [
      "mre 12.3\n",
      "rns 80\n"
     ]
    }
   ],
   "source": [
    "# Contoh 16\n",
    "hitung = {'tar': 9, 'mre': 12.3, 'rns': 80}\n",
    "for kunci in hitung:\n",
    "    if hitung[kunci] > 10:\n",
    "        print(kunci, hitung[kunci])"
   ]
  },
  {
   "cell_type": "code",
   "execution_count": 8,
   "id": "8cbb6288-5cb3-4638-a18f-4d2cce41010c",
   "metadata": {},
   "outputs": [
    {
     "name": "stdout",
     "output_type": "stream",
     "text": [
      "['tar', 'mre', 'rns']\n",
      "mre 12.3\n",
      "rns 80\n",
      "tar 9\n"
     ]
    }
   ],
   "source": [
    "# Contoh 17\n",
    "hitung = {'tar': 9, 'mre': 12.3, 'rns': 80}\n",
    "susun = list(hitung.keys())\n",
    "print(susun)\n",
    "susun.sort()\n",
    "for kunci in susun:\n",
    "    print(kunci, hitung[kunci])"
   ]
  },
  {
   "cell_type": "code",
   "execution_count": 14,
   "id": "716ed11b-75f5-4067-b343-33f57146b44b",
   "metadata": {},
   "outputs": [
    {
     "data": {
      "text/plain": [
       "'!\"#$%&\\'()*+,-./:;<=>?@[\\\\]^_`{|}~'"
      ]
     },
     "execution_count": 14,
     "metadata": {},
     "output_type": "execute_result"
    }
   ],
   "source": [
    "# Contoh 18\n",
    "import string\n",
    "string.punctuation"
   ]
  },
  {
   "cell_type": "code",
   "execution_count": 2,
   "id": "cde7227e-abe2-430e-bed1-eec17c4167a2",
   "metadata": {},
   "outputs": [
    {
     "name": "stdin",
     "output_type": "stream",
     "text": [
      "Enter the file name:  romeo.txt\n"
     ]
    },
    {
     "name": "stdout",
     "output_type": "stream",
     "text": [
      "File cannot be opened: romeo.txt\n"
     ]
    },
    {
     "ename": "NameError",
     "evalue": "name 'buka' is not defined",
     "output_type": "error",
     "traceback": [
      "\u001b[1;31m---------------------------------------------------------------------------\u001b[0m",
      "\u001b[1;31mNameError\u001b[0m                                 Traceback (most recent call last)",
      "Cell \u001b[1;32mIn[2], line 12\u001b[0m\n\u001b[0;32m      9\u001b[0m     exit()\n\u001b[0;32m     11\u001b[0m hitung \u001b[38;5;241m=\u001b[39m \u001b[38;5;28mdict\u001b[39m()\n\u001b[1;32m---> 12\u001b[0m \u001b[38;5;28;01mfor\u001b[39;00m baris \u001b[38;5;129;01min\u001b[39;00m buka:\n\u001b[0;32m     13\u001b[0m     baris \u001b[38;5;241m=\u001b[39m baris\u001b[38;5;241m.\u001b[39mrstrip()\n\u001b[0;32m     14\u001b[0m     baris \u001b[38;5;241m=\u001b[39m baris\u001b[38;5;241m.\u001b[39mtranslate(baris\u001b[38;5;241m.\u001b[39mmaketrans(\u001b[38;5;124m'\u001b[39m\u001b[38;5;124m'\u001b[39m, \u001b[38;5;124m'\u001b[39m\u001b[38;5;124m'\u001b[39m, string\u001b[38;5;241m.\u001b[39mpunctuation))\n",
      "\u001b[1;31mNameError\u001b[0m: name 'buka' is not defined"
     ]
    }
   ],
   "source": [
    "# Contoh 19\n",
    "import string\n",
    "\n",
    "nama_file = input('Enter the file name: ')\n",
    "try:\n",
    "    buka = open(nama_file)\n",
    "except:\n",
    "    print('File cannot be opened:', nama_file)\n",
    "    exit()\n",
    "\n",
    "hitung = dict()\n",
    "for baris in buka:\n",
    "    baris = baris.rstrip()\n",
    "    baris = baris.translate(baris.maketrans('', '', string.punctuation))\n",
    "    baris = baris.lower()\n",
    "    katakata = baris.split()\n",
    "    for kata in katakata:\n",
    "        if kata not in hitung:\n",
    "            hitung[kata] = 1\n",
    "        else:\n",
    "            hitung[kata] += 1\n",
    "\n",
    "print(hitung)"
   ]
  },
  {
   "cell_type": "code",
   "execution_count": 3,
   "id": "1ca8c310-07f0-4e62-b005-e92ddaa4ffab",
   "metadata": {},
   "outputs": [
    {
     "name": "stdout",
     "output_type": "stream",
     "text": [
      "key\tvalue\titem\n",
      "1\t10\t1\n",
      "2\t20\t2\n",
      "3\t30\t3\n",
      "4\t40\t4\n",
      "5\t50\t5\n",
      "6\t60\t6\n"
     ]
    }
   ],
   "source": [
    "# Latihan 1\n",
    "cloud = {1: 10, 2: 20, 3: 30, 4: 40, 5: 50, 6: 60}\n",
    "print(\"key\\tvalue\\titem\")\n",
    "for key, value in cloud.items():\n",
    "    print(f\"{key}\\t{value}\\t{key}\")"
   ]
  },
  {
   "cell_type": "code",
   "execution_count": 5,
   "id": "0d395fb4-500a-4e78-a8ed-b47edae4b0ef",
   "metadata": {},
   "outputs": [
    {
     "name": "stdout",
     "output_type": "stream",
     "text": [
      "{'green': '#008000', 'blue': '#0000FF', 'red': '#FF0000'}\n"
     ]
    }
   ],
   "source": [
    "# Latihan 2\n",
    "Lista = ['green', 'blue', 'red']\n",
    "Listb = ['#008000', '#0000FF', '#FF0000']\n",
    "simpan = {}\n",
    "for i in range(len(Lista)):\n",
    "    simpan[Lista[i]] = Listb[i]\n",
    "print(simpan)"
   ]
  },
  {
   "cell_type": "code",
   "execution_count": null,
   "id": "4bba555a-e96f-4163-8ec2-f7e23c8e7a21",
   "metadata": {},
   "outputs": [],
   "source": [
    "# Latihan 3\n",
    "namafile = input(\"Masukkan nama file : \")\n",
    "buka = open(namafile)\n",
    "hitung = {}\n",
    "for baris in buka:\n",
    "    if not baris.startswith('From '):\n",
    "        continue\n",
    "    kata = baris.split()\n",
    "    email = kata[1]\n",
    "    if email in hitung:\n",
    "        hitung[email] += 1\n",
    "    else:\n",
    "        hitung[email] = 1\n",
    "\n",
    "print(hitung)"
   ]
  },
  {
   "cell_type": "code",
   "execution_count": null,
   "id": "bbff80d6-07eb-4409-a9d9-a08e29bdc3f0",
   "metadata": {},
   "outputs": [],
   "source": [
    "# Latihan 4\n",
    "namafile = input(\"Masukkan nama file : \")\n",
    "buka = open(namafile)\n",
    "hitung = {}\n",
    "for baris in buka:\n",
    "    if not baris.startswith('From '):\n",
    "        continue\n",
    "    kata = baris.split()\n",
    "    email = kata[1]\n",
    "    alamat = email.split('@')[1]\n",
    "    if alamat in hitung:\n",
    "        hitung[alamat] += 1\n",
    "    else:\n",
    "        hitung[alamat] = 1\n",
    "print(hitung)"
   ]
  }
 ],
 "metadata": {
  "kernelspec": {
   "display_name": "Python [conda env:base] *",
   "language": "python",
   "name": "conda-base-py"
  },
  "language_info": {
   "codemirror_mode": {
    "name": "ipython",
    "version": 3
   },
   "file_extension": ".py",
   "mimetype": "text/x-python",
   "name": "python",
   "nbconvert_exporter": "python",
   "pygments_lexer": "ipython3",
   "version": "3.12.7"
  }
 },
 "nbformat": 4,
 "nbformat_minor": 5
}
