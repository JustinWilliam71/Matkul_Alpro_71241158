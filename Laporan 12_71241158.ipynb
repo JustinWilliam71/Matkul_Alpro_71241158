{
 "cells": [
  {
   "cell_type": "code",
   "execution_count": null,
   "id": "14e1fb78-e1a2-4476-82ac-a29ff5fa4b91",
   "metadata": {},
   "outputs": [],
   "source": [
    "# Contoh 1\n",
    "tup = 'h', 'e', 'l', 'l', 'o'"
   ]
  },
  {
   "cell_type": "code",
   "execution_count": null,
   "id": "ac1256c7-eecc-4c94-9878-c03ca3c12d80",
   "metadata": {},
   "outputs": [],
   "source": [
    "# Contoh 2\n",
    "tup = ('h', 'e', 'l', 'l', 'o')"
   ]
  },
  {
   "cell_type": "code",
   "execution_count": 2,
   "id": "7dd2195b-5344-4b44-9d4b-d92347436ec4",
   "metadata": {},
   "outputs": [
    {
     "data": {
      "text/plain": [
       "tuple"
      ]
     },
     "execution_count": 2,
     "metadata": {},
     "output_type": "execute_result"
    }
   ],
   "source": [
    "# Contoh 3\n",
    "tup = ('a',)\n",
    "type(tup)"
   ]
  },
  {
   "cell_type": "code",
   "execution_count": 4,
   "id": "15e2f228-2081-4dc8-9402-94ca3bf6bf8e",
   "metadata": {},
   "outputs": [
    {
     "data": {
      "text/plain": [
       "str"
      ]
     },
     "execution_count": 4,
     "metadata": {},
     "output_type": "execute_result"
    }
   ],
   "source": [
    "# Contoh 4\n",
    "tup = ('a')\n",
    "type(tup)"
   ]
  },
  {
   "cell_type": "code",
   "execution_count": 134,
   "id": "f64e32f1-a994-49c6-a7ad-82d823f8e4e5",
   "metadata": {},
   "outputs": [
    {
     "name": "stdout",
     "output_type": "stream",
     "text": [
      "()\n"
     ]
    }
   ],
   "source": [
    "# Contoh 5\n",
    "tup = tuple()\n",
    "print(tup)"
   ]
  },
  {
   "cell_type": "code",
   "execution_count": 136,
   "id": "0bfe19fd-f566-45fc-8c73-eccc6b3c4a8d",
   "metadata": {},
   "outputs": [
    {
     "name": "stdout",
     "output_type": "stream",
     "text": [
      "('N', 'i', 'c', 'e', ' ', 't', 'o', ' ', 'm', 'm', 'e', 't', ' ', 'y', 'o', 'u', '!')\n"
     ]
    }
   ],
   "source": [
    "# Contoh 6\n",
    "tup = tuple('Nice to mmet you!')\n",
    "print(tup)"
   ]
  },
  {
   "cell_type": "code",
   "execution_count": 138,
   "id": "09295cbf-a0cf-448c-9499-33af1236822c",
   "metadata": {},
   "outputs": [
    {
     "name": "stdout",
     "output_type": "stream",
     "text": [
      "h\n"
     ]
    }
   ],
   "source": [
    "# Contoh 7\n",
    "tup = ('h', 'e', 'l', 'l', 'o')\n",
    "print(tup[0])"
   ]
  },
  {
   "cell_type": "code",
   "execution_count": 140,
   "id": "cd4e9660-c5e6-4634-ab99-0b21d2cf34b3",
   "metadata": {},
   "outputs": [
    {
     "name": "stdout",
     "output_type": "stream",
     "text": [
      "('e', 'l')\n"
     ]
    }
   ],
   "source": [
    "# Contoh 8\n",
    "tup = ('h', 'e', 'l', 'l', 'o')\n",
    "print(tup[1:3])"
   ]
  },
  {
   "cell_type": "code",
   "execution_count": 142,
   "id": "9495f627-c195-45db-af2d-ca5c22ca2266",
   "metadata": {},
   "outputs": [
    {
     "ename": "TypeError",
     "evalue": "'tuple' object does not support item assignment",
     "output_type": "error",
     "traceback": [
      "\u001b[1;31m---------------------------------------------------------------------------\u001b[0m",
      "\u001b[1;31mTypeError\u001b[0m                                 Traceback (most recent call last)",
      "Cell \u001b[1;32mIn[142], line 3\u001b[0m\n\u001b[0;32m      1\u001b[0m \u001b[38;5;66;03m# Contoh 9\u001b[39;00m\n\u001b[0;32m      2\u001b[0m tup \u001b[38;5;241m=\u001b[39m (\u001b[38;5;124m'\u001b[39m\u001b[38;5;124mh\u001b[39m\u001b[38;5;124m'\u001b[39m, \u001b[38;5;124m'\u001b[39m\u001b[38;5;124me\u001b[39m\u001b[38;5;124m'\u001b[39m, \u001b[38;5;124m'\u001b[39m\u001b[38;5;124ml\u001b[39m\u001b[38;5;124m'\u001b[39m, \u001b[38;5;124m'\u001b[39m\u001b[38;5;124ml\u001b[39m\u001b[38;5;124m'\u001b[39m, \u001b[38;5;124m'\u001b[39m\u001b[38;5;124mo\u001b[39m\u001b[38;5;124m'\u001b[39m)\n\u001b[1;32m----> 3\u001b[0m tup[\u001b[38;5;241m0\u001b[39m] \u001b[38;5;241m=\u001b[39m \u001b[38;5;124m'\u001b[39m\u001b[38;5;124mc\u001b[39m\u001b[38;5;124m'\u001b[39m\n",
      "\u001b[1;31mTypeError\u001b[0m: 'tuple' object does not support item assignment"
     ]
    }
   ],
   "source": [
    "# Contoh 9\n",
    "tup = ('h', 'e', 'l', 'l', 'o')\n",
    "tup[0] = 'c'"
   ]
  },
  {
   "cell_type": "code",
   "execution_count": 144,
   "id": "c8499118-e00b-476e-9230-df4a6c496433",
   "metadata": {},
   "outputs": [
    {
     "name": "stdout",
     "output_type": "stream",
     "text": [
      "('C', 'e', 'l', 'l', 'o')\n"
     ]
    }
   ],
   "source": [
    "# Contoh 10\n",
    "tup = ('h', 'e', 'l', 'l', 'o')\n",
    "tup1 = ('C',) + tup[1:]\n",
    "print(tup1)"
   ]
  },
  {
   "cell_type": "code",
   "execution_count": 146,
   "id": "d391028f-9e8b-4d5d-a9a2-5f38b7a993f0",
   "metadata": {},
   "outputs": [
    {
     "data": {
      "text/plain": [
       "True"
      ]
     },
     "execution_count": 146,
     "metadata": {},
     "output_type": "execute_result"
    }
   ],
   "source": [
    "# Contoh 11\n",
    "(0, 10, 20) < (0, 15, 25) "
   ]
  },
  {
   "cell_type": "code",
   "execution_count": 148,
   "id": "c144aff9-3152-4bdc-9eb4-8a4261166dc1",
   "metadata": {},
   "outputs": [
    {
     "name": "stdout",
     "output_type": "stream",
     "text": [
      "['Yesterday', 'tomorrow', 'mystery,', 'history,', 'today', 'gift', 'but', 'is', 'is', 'is', 'a', 'a']\n"
     ]
    }
   ],
   "source": [
    "# Contoh 12\n",
    "word =  \"Yesterday is history, tomorrow is a mystery, but today is a gift\"\n",
    "ubah = word.split()\n",
    "tup = list()\n",
    "for kata in ubah:\n",
    "    tup.append((len(kata), kata))\n",
    "\n",
    "tup.sort(reverse=True)\n",
    "susun = list()\n",
    "for panjang, kata in tup:\n",
    "    susun.append(kata)\n",
    "\n",
    "print(susun)"
   ]
  },
  {
   "cell_type": "code",
   "execution_count": 150,
   "id": "33935e20-041a-44ce-9b50-6fa795367146",
   "metadata": {},
   "outputs": [
    {
     "data": {
      "text/plain": [
       "'game'"
      ]
     },
     "execution_count": 150,
     "metadata": {},
     "output_type": "execute_result"
    }
   ],
   "source": [
    "# Contoh 13\n",
    "vari = ['main', 'game']\n",
    "satu, dua = vari\n",
    "dua"
   ]
  },
  {
   "cell_type": "code",
   "execution_count": 174,
   "id": "517b4ae3-9b4e-43bb-b12c-d8885a368854",
   "metadata": {},
   "outputs": [
    {
     "name": "stdout",
     "output_type": "stream",
     "text": [
      "main\n",
      "game\n"
     ]
    }
   ],
   "source": [
    "# Contoh 14\n",
    "vari = ['main', 'game']\n",
    "satu = vari[0]\n",
    "dua = vari[1]\n",
    "print(satu)\n",
    "print(dua)"
   ]
  },
  {
   "cell_type": "code",
   "execution_count": 176,
   "id": "af4c2688-71ba-40ac-98d1-316faa20f7b0",
   "metadata": {},
   "outputs": [
    {
     "name": "stdout",
     "output_type": "stream",
     "text": [
      "game\n",
      "main\n"
     ]
    }
   ],
   "source": [
    "# Contoh 15\n",
    "vari = ['main', 'game']\n",
    "(satu, dua) = vari\n",
    "print(dua)\n",
    "print(satu)"
   ]
  },
  {
   "cell_type": "code",
   "execution_count": null,
   "id": "d0539b6f-d39b-4e49-ba1d-d973a43d43bc",
   "metadata": {},
   "outputs": [],
   "source": [
    "a, b = b , a"
   ]
  },
  {
   "cell_type": "code",
   "execution_count": 156,
   "id": "a73d2b50-ae54-47b9-af9d-6d0e36ba8793",
   "metadata": {},
   "outputs": [
    {
     "ename": "ValueError",
     "evalue": "too many values to unpack (expected 2)",
     "output_type": "error",
     "traceback": [
      "\u001b[1;31m---------------------------------------------------------------------------\u001b[0m",
      "\u001b[1;31mValueError\u001b[0m                                Traceback (most recent call last)",
      "Cell \u001b[1;32mIn[156], line 2\u001b[0m\n\u001b[0;32m      1\u001b[0m \u001b[38;5;66;03m# Contoh 16\u001b[39;00m\n\u001b[1;32m----> 2\u001b[0m satu, dua \u001b[38;5;241m=\u001b[39m \u001b[38;5;241m1\u001b[39m, \u001b[38;5;241m2\u001b[39m, \u001b[38;5;241m3\u001b[39m\n",
      "\u001b[1;31mValueError\u001b[0m: too many values to unpack (expected 2)"
     ]
    }
   ],
   "source": [
    "# Contoh 16\n",
    "satu, dua = 1, 2, 3"
   ]
  },
  {
   "cell_type": "code",
   "execution_count": 184,
   "id": "804e72da-80ee-4568-a9e0-87a77da7ac1c",
   "metadata": {},
   "outputs": [
    {
     "name": "stdout",
     "output_type": "stream",
     "text": [
      "indonesia.ac.id\n",
      "technologia\n"
     ]
    }
   ],
   "source": [
    "# Contoh 17\n",
    "alamat = \"technologia@indonesia.ac.id\"\n",
    "username, domain = alamat.split(\"@\")\n",
    "print(domain)\n",
    "print(username)"
   ]
  },
  {
   "cell_type": "code",
   "execution_count": 160,
   "id": "4359b193-0953-48a3-977e-395def3db2fa",
   "metadata": {},
   "outputs": [
    {
     "name": "stdout",
     "output_type": "stream",
     "text": [
      "[('a', 10), ('b', 1), ('c', 22)]\n"
     ]
    }
   ],
   "source": [
    "# Contoh 18\n",
    "d = {'a': 10, 'b': 1, 'c': 22}\n",
    "t = list(d.items())\n",
    "print(t)"
   ]
  },
  {
   "cell_type": "code",
   "execution_count": 164,
   "id": "5b535aa7-77ef-43b5-948c-75a0d67c6e91",
   "metadata": {},
   "outputs": [
    {
     "name": "stdout",
     "output_type": "stream",
     "text": [
      "[('a', 9), ('b', 2), ('c', 40)]\n",
      "[('a', 9), ('b', 2), ('c', 40)]\n"
     ]
    }
   ],
   "source": [
    "# Contoh 19\n",
    "dik = {'a': 9, 'b': 2, 'c': 40}\n",
    "tup = list(dik.items())\n",
    "print(tup)\n",
    "tup.sort()\n",
    "print(tup)"
   ]
  },
  {
   "cell_type": "code",
   "execution_count": 166,
   "id": "077df412-8df0-40b7-9735-336cc75fd0c4",
   "metadata": {},
   "outputs": [
    {
     "name": "stdout",
     "output_type": "stream",
     "text": [
      "10 a\n",
      "1 b\n",
      "22 c\n"
     ]
    }
   ],
   "source": [
    "# Contoh 20\n",
    "dik = {'a': 10, 'b': 1, 'c': 22}\n",
    "for key, val in list(dik.items()):\n",
    "    print(val, key)"
   ]
  },
  {
   "cell_type": "code",
   "execution_count": 168,
   "id": "4dccb5db-dc5c-4852-8ff2-03aff63c5870",
   "metadata": {},
   "outputs": [
    {
     "name": "stdout",
     "output_type": "stream",
     "text": [
      "[(10, 'a'), (1, 'b'), (22, 'c')]\n",
      "[(22, 'c'), (10, 'a'), (1, 'b')]\n"
     ]
    }
   ],
   "source": [
    "# Contoh 21\n",
    "dik = {'a': 10, 'b': 1, 'c': 22}\n",
    "lit = list()\n",
    "for key, val in dik.items():\n",
    "    lit.append((val, key))\n",
    "print(lit)\n",
    "lit.sort(reverse=True)\n",
    "print(lit)"
   ]
  },
  {
   "cell_type": "code",
   "execution_count": 170,
   "id": "0b943fe9-5c47-498f-9ed6-6a1e6e26dd01",
   "metadata": {},
   "outputs": [
    {
     "ename": "FileNotFoundError",
     "evalue": "[Errno 2] No such file or directory: 'romeo-full.txt'",
     "output_type": "error",
     "traceback": [
      "\u001b[1;31m---------------------------------------------------------------------------\u001b[0m",
      "\u001b[1;31mFileNotFoundError\u001b[0m                         Traceback (most recent call last)",
      "Cell \u001b[1;32mIn[170], line 3\u001b[0m\n\u001b[0;32m      1\u001b[0m \u001b[38;5;66;03m# Contoh 22\u001b[39;00m\n\u001b[0;32m      2\u001b[0m \u001b[38;5;28;01mimport\u001b[39;00m \u001b[38;5;21;01mstring\u001b[39;00m\n\u001b[1;32m----> 3\u001b[0m buka \u001b[38;5;241m=\u001b[39m \u001b[38;5;28mopen\u001b[39m(\u001b[38;5;124m'\u001b[39m\u001b[38;5;124mromeo-full.txt\u001b[39m\u001b[38;5;124m'\u001b[39m)\n\u001b[0;32m      4\u001b[0m hitung \u001b[38;5;241m=\u001b[39m \u001b[38;5;28mdict\u001b[39m()\n\u001b[0;32m      5\u001b[0m \u001b[38;5;28;01mfor\u001b[39;00m baris \u001b[38;5;129;01min\u001b[39;00m buka:\n",
      "File \u001b[1;32m~\\anaconda3\\Lib\\site-packages\\IPython\\core\\interactiveshell.py:324\u001b[0m, in \u001b[0;36m_modified_open\u001b[1;34m(file, *args, **kwargs)\u001b[0m\n\u001b[0;32m    317\u001b[0m \u001b[38;5;28;01mif\u001b[39;00m file \u001b[38;5;129;01min\u001b[39;00m {\u001b[38;5;241m0\u001b[39m, \u001b[38;5;241m1\u001b[39m, \u001b[38;5;241m2\u001b[39m}:\n\u001b[0;32m    318\u001b[0m     \u001b[38;5;28;01mraise\u001b[39;00m \u001b[38;5;167;01mValueError\u001b[39;00m(\n\u001b[0;32m    319\u001b[0m         \u001b[38;5;124mf\u001b[39m\u001b[38;5;124m\"\u001b[39m\u001b[38;5;124mIPython won\u001b[39m\u001b[38;5;124m'\u001b[39m\u001b[38;5;124mt let you open fd=\u001b[39m\u001b[38;5;132;01m{\u001b[39;00mfile\u001b[38;5;132;01m}\u001b[39;00m\u001b[38;5;124m by default \u001b[39m\u001b[38;5;124m\"\u001b[39m\n\u001b[0;32m    320\u001b[0m         \u001b[38;5;124m\"\u001b[39m\u001b[38;5;124mas it is likely to crash IPython. If you know what you are doing, \u001b[39m\u001b[38;5;124m\"\u001b[39m\n\u001b[0;32m    321\u001b[0m         \u001b[38;5;124m\"\u001b[39m\u001b[38;5;124myou can use builtins\u001b[39m\u001b[38;5;124m'\u001b[39m\u001b[38;5;124m open.\u001b[39m\u001b[38;5;124m\"\u001b[39m\n\u001b[0;32m    322\u001b[0m     )\n\u001b[1;32m--> 324\u001b[0m \u001b[38;5;28;01mreturn\u001b[39;00m io_open(file, \u001b[38;5;241m*\u001b[39margs, \u001b[38;5;241m*\u001b[39m\u001b[38;5;241m*\u001b[39mkwargs)\n",
      "\u001b[1;31mFileNotFoundError\u001b[0m: [Errno 2] No such file or directory: 'romeo-full.txt'"
     ]
    }
   ],
   "source": [
    "# Contoh 22\n",
    "import string\n",
    "buka = open('romeo-full.txt')\n",
    "hitung = dict()\n",
    "for baris in buka:\n",
    "    baris = baris.translate(str.maketrans('', '', string.punctuation))\n",
    "    baris = baris.lower()\n",
    "    kalimat = baris.split()\n",
    "    for kata in kalimat:\n",
    "        if kata not in hitung:\n",
    "            hitung[kata] = 1\n",
    "        else:\n",
    "            hitung[kata] += 1\n",
    "\n",
    "kumpul = list()\n",
    "for key, val in list(hitung.items()):\n",
    "    kumpul.append((val, key))\n",
    "\n",
    "kumpul.sort(reverse=True)\n",
    "\n",
    "for key, val in kumpul[:10]:\n",
    "    print(key, val)"
   ]
  },
  {
   "cell_type": "code",
   "execution_count": null,
   "id": "7d02a2e3-3659-4128-8b23-43cfe18991b3",
   "metadata": {},
   "outputs": [],
   "source": [
    "directory[belakang, depan] = nomor"
   ]
  },
  {
   "cell_type": "code",
   "execution_count": null,
   "id": "37728ecd-9da3-4581-b7b4-c65b47430763",
   "metadata": {},
   "outputs": [],
   "source": [
    "for belakang, depan in dire:\n",
    "    print(depan, belakang, dire[belakang, depan])"
   ]
  },
  {
   "cell_type": "code",
   "execution_count": 186,
   "id": "e77e1e1b-7abb-4d0d-b151-2d68558d0ae2",
   "metadata": {},
   "outputs": [
    {
     "name": "stdout",
     "output_type": "stream",
     "text": [
      "Max Verstappen 2135674664\n"
     ]
    }
   ],
   "source": [
    "# Contoh 23\n",
    "belakang = 'Verstappen'\n",
    "depan = 'Max'\n",
    "nomor = '2135674664'\n",
    "dire = dict()\n",
    "dire[belakang, depan] = nomor\n",
    "for belakang, depan in dire:\n",
    "    print(depan, belakang, dire[belakang, depan])"
   ]
  },
  {
   "cell_type": "code",
   "execution_count": 2,
   "id": "b889f964-5be0-4b8d-896d-0e0e238a9858",
   "metadata": {},
   "outputs": [
    {
     "name": "stdout",
     "output_type": "stream",
     "text": [
      "True\n"
     ]
    }
   ],
   "source": [
    "# Latihan 1\n",
    "tA = (19, 19, 19, 19)\n",
    "hasil = all(x == tA[0] for x in tA)\n",
    "print(hasil)"
   ]
  },
  {
   "cell_type": "code",
   "execution_count": 4,
   "id": "2bb27d86-1c76-4bcb-91e7-46c616f76abb",
   "metadata": {},
   "outputs": [
    {
     "name": "stdout",
     "output_type": "stream",
     "text": [
      "False\n"
     ]
    }
   ],
   "source": [
    "# Latihan 1 (Jika ada isi anggota yang berbeda)\n",
    "tA = (19, 19, 20, 19)\n",
    "hasil = all(x == tA[0] for x in tA)\n",
    "print(hasil)"
   ]
  },
  {
   "cell_type": "code",
   "execution_count": 6,
   "id": "9305416e-2ccd-4a66-8fbf-0d54690954b5",
   "metadata": {},
   "outputs": [
    {
     "name": "stdout",
     "output_type": "stream",
     "text": [
      "Data: ('Matahari Bhakti Nendya', '22064091', 'Bantul, DI Yogyakarta')\n",
      "\n",
      "NIM : 22064091\n",
      "NAMA : Matahari Bhakti Nendya\n",
      "ALAMAT : Bantul, DI Yogyakarta\n",
      "\n",
      "NIM: ('2', '2', '0', '6', '4', '0', '9', '1')\n",
      "\n",
      "NAMA DEPAN: ('M', 'a', 't', 'a', 'h', 'a', 'r', 'i')\n",
      "\n",
      "NAMA TERBALIK: ('Nendya', 'Bhakti', 'Matahari')\n"
     ]
    }
   ],
   "source": [
    "# Latihan 2\n",
    "data = ('Matahari Bhakti Nendya', '22064091', 'Bantul, DI Yogyakarta')\n",
    "print(\"Data:\", data)\n",
    "print()\n",
    "print(\"NIM :\", data[1])\n",
    "print(\"NAMA :\", data[0])\n",
    "print(\"ALAMAT :\", data[2])\n",
    "nim_tuple = tuple(data[1])\n",
    "print()\n",
    "print(\"NIM:\", nim_tuple)\n",
    "print()\n",
    "nama_depan = tuple(data[0].split()[0])\n",
    "print(\"NAMA DEPAN:\", nama_depan)\n",
    "print()\n",
    "nama_terbalik = tuple(reversed(data[0].split()))\n",
    "print(\"NAMA TERBALIK:\", nama_terbalik)"
   ]
  },
  {
   "cell_type": "code",
   "execution_count": null,
   "id": "aa8f8059-8409-4a2c-86eb-2f4923021408",
   "metadata": {},
   "outputs": [],
   "source": [
    "# Latihan 3\n",
    "nama_file = input(\"Masukkan nama file: \")\n",
    "handle = open(nama_file)\n",
    "hitung = dict()\n",
    "for baris in handle:\n",
    "    if baris.startswith(\"From \"):\n",
    "        kata = baris.split()\n",
    "        waktu = kata[5]\n",
    "        jam = waktu.split(\":\")[0]\n",
    "        hitung[jam] = hitung.get(jam, 0) + 1\n",
    "\n",
    "for k, v in sorted(hitung.items()):\n",
    "    print(k, v)"
   ]
  },
  {
   "cell_type": "code",
   "execution_count": null,
   "id": "c9de5b87-0604-40d2-983d-554f73d2d6ec",
   "metadata": {},
   "outputs": [],
   "source": []
  }
 ],
 "metadata": {
  "kernelspec": {
   "display_name": "Python [conda env:base] *",
   "language": "python",
   "name": "conda-base-py"
  },
  "language_info": {
   "codemirror_mode": {
    "name": "ipython",
    "version": 3
   },
   "file_extension": ".py",
   "mimetype": "text/x-python",
   "name": "python",
   "nbconvert_exporter": "python",
   "pygments_lexer": "ipython3",
   "version": "3.12.7"
  }
 },
 "nbformat": 4,
 "nbformat_minor": 5
}
