{
 "cells": [
  {
   "cell_type": "code",
   "execution_count": null,
   "id": "2e580239-fa63-44d8-8c7b-2c75776722df",
   "metadata": {},
   "outputs": [],
   "source": [
    "# Contoh 1\n",
    "# Dengan menggunakan {}\n",
    "bilangan_genap = {10, 20, 30, 40, 50]\n",
    "bilangan_ganjil = {3, 6, 9, 11, 15}\n",
    "\n",
    "# Dengan menggunakan fungsi Set\n",
    "mata_kuliah = set(\"Alpro\", \"Matematika Diskrit\", \"Agama\")\n",
    "\n",
    "# Dengan menggunakan fungsi set()\n",
    "pernah_ke_matahari = set()  #Ini akan menghasilkan set kosong \n",
    "\n",
    "datanya = {}   #Menghasilkan dictionary kosong"
   ]
  },
  {
   "cell_type": "code",
   "execution_count": 12,
   "id": "498bbac6-4781-4227-adde-db85f0c42cd9",
   "metadata": {},
   "outputs": [
    {
     "name": "stdout",
     "output_type": "stream",
     "text": [
      "3\n",
      "5000\n",
      "20000\n",
      "2000\n"
     ]
    }
   ],
   "source": [
    "# Contoh 2\n",
    "mata_uang = {5000, 20000, 2000}\n",
    "banyak_uang = len(mata_uang)\n",
    "print(banyak_uang)\n",
    "# Untuk menampilkan isi set\n",
    "for i in mata_uang:\n",
    "    print(i)"
   ]
  },
  {
   "cell_type": "code",
   "execution_count": 18,
   "id": "00839290-7a53-41b2-bca3-8a66ce770b15",
   "metadata": {},
   "outputs": [
    {
     "name": "stdout",
     "output_type": "stream",
     "text": [
      "2\n",
      "KB 2134 BG\n",
      "KU 1948 SA\n"
     ]
    }
   ],
   "source": [
    "# Contoh 3\n",
    "# definisi set kosong\n",
    "plat_nomor = set()\n",
    "\n",
    "# menambahkan plat \"KU 1948 SA\"\n",
    "plat_nomor.add(\"KU 1948 SA\")\n",
    "\n",
    "# menambahkan plat nomor \"KB 2134 BG\"\n",
    "plat_nomor.add(\"KB 2134 BG\")\n",
    "\n",
    "# seluruh anggota di dalam set\n",
    "print(len(plat_nomor))\n",
    "\n",
    "# kembali menambahkan plat yang sama\n",
    "plat_nomor.add(\"KU 1948 SA\")\n",
    "\n",
    "# menampilkan semua plat\n",
    "for plat in plat_nomor:\n",
    "    print(plat)"
   ]
  },
  {
   "cell_type": "code",
   "execution_count": 32,
   "id": "22e27d3b-f77e-4ab4-b3de-911e5119312a",
   "metadata": {},
   "outputs": [
    {
     "name": "stdout",
     "output_type": "stream",
     "text": [
      "{36, 70, 12, 45, 44, 15}\n",
      "{36, 70, 12, 45, 44}\n",
      "{36, 70, 12, 45, 44}\n",
      "36\n",
      "{70, 12, 45, 44}\n",
      "set()\n"
     ]
    }
   ],
   "source": [
    "# Contoh 4\n",
    "bilangan_random = {15, 44, 12, 36, 70, 45}\n",
    "print(bilangan_random)\n",
    "\n",
    "# menghapus isi set sebanyak 5\n",
    "bilangan_random.remove(15)\n",
    "print(bilangan_random)\n",
    "\n",
    "# hapus 63 (tidak ada)\n",
    "bilangan_random.discard(63)\n",
    "print(bilangan_random)\n",
    "\n",
    "# ambil dan hapus salah satu\n",
    "bilangan = bilangan_random.pop()\n",
    "print(bilangan)\n",
    "print(bilangan_random)\n",
    "\n",
    "# mengosongkan set\n",
    "bilangan_random.clear()\n",
    "print(bilangan_random)"
   ]
  },
  {
   "cell_type": "code",
   "execution_count": 36,
   "id": "c874ae27-e094-48ee-980d-425e12f95bc1",
   "metadata": {},
   "outputs": [
    {
     "name": "stdout",
     "output_type": "stream",
     "text": [
      "{'Platypus', 'Impala', 'Kuda', 'Cacing'}\n",
      "{'Kuda', 'Kumbang', 'Impala', 'Platypus'}\n"
     ]
    }
   ],
   "source": [
    "# Contoh 5\n",
    "hewan = set([\"Kuda\", \"Cacing\", \"Platypus\", \"Impala\"])\n",
    "print(hewan)\n",
    "\n",
    "# Ganti Cacing menjadi Kumbang\n",
    "hewan.remove(\"Cacing\")\n",
    "hewan.add(\"Kumbang\")\n",
    "print(hewan)"
   ]
  },
  {
   "cell_type": "code",
   "execution_count": 17,
   "id": "e4ea1791-6107-48a3-b2dc-7d7d18bfd8e7",
   "metadata": {},
   "outputs": [
    {
     "name": "stdout",
     "output_type": "stream",
     "text": [
      "{'Suzuki', 'Daihatsu', 'Honda', 'Volvo'}\n",
      "{'Suzuki', 'Yamaha', 'Kawasaki', 'Honda'}\n",
      "{'Suzuki', 'Yamaha', 'Kawasaki', 'Daihatsu', 'Honda', 'Volvo'}\n"
     ]
    }
   ],
   "source": [
    "# Contoh 6\n",
    "brand_mobil = {\"Volvo\", \"Honda\", \"Suzuki\", \"Daihatsu\"}\n",
    "print(brand_mobil)\n",
    "\n",
    "brand_motor = {\"Yamaha\", \"Honda\", \"Suzuki\", \"Kawasaki\"}\n",
    "print(brand_motor)\n",
    "gabung = brand_mobil | brand_motor\n",
    "print(gabung)"
   ]
  },
  {
   "cell_type": "code",
   "execution_count": 1,
   "id": "5c410bc8-ffa6-40ff-aea4-1c3000699aeb",
   "metadata": {},
   "outputs": [
    {
     "name": "stdout",
     "output_type": "stream",
     "text": [
      "{'Doni', 'Dona'}\n"
     ]
    }
   ],
   "source": [
    "# Contoh 7\n",
    "ikut_alpro = {\"Joni\", \"Korlianus\", \"Wnda\", \"Doni\", \"Dona\"}\n",
    "ikut_matdis = {\"Pramono\", 'Bonney', \"Wongso\", \"Doni\", \"Dona\"}\n",
    "alpro_matdis = ikut_alpro & ikut_matdis\n",
    "print(alpro_matdis)"
   ]
  },
  {
   "cell_type": "code",
   "execution_count": 3,
   "id": "2cec85e3-1231-40d3-8ade-4395a51904e6",
   "metadata": {},
   "outputs": [
    {
     "name": "stdout",
     "output_type": "stream",
     "text": [
      "{'Winda', 'Joko'}\n",
      "{'Dona', 'Jeki'}\n"
     ]
    }
   ],
   "source": [
    "# Contoh 8\n",
    "jerman = {\"Joko\", \"Purwanto\", \"Winda\", \"Desi\"}\n",
    "inggris = {\"Jeki\", \"Purwanto\", \"Dona\", \"Desi\"}\n",
    "hanya_jerman = jerman - inggris\n",
    "print(hanya_jerman)\n",
    "\n",
    "hanya_inggris = inggris - jerman\n",
    "print(hanya_inggris)"
   ]
  },
  {
   "cell_type": "code",
   "execution_count": 2,
   "id": "3876df2d-7228-41fa-bb72-b20eab0d925a",
   "metadata": {},
   "outputs": [
    {
     "name": "stdout",
     "output_type": "stream",
     "text": [
      "{'Winda', 'Joko', 'Dona', 'Jeki'}\n",
      "{'Joko', 'Jeki', 'Dona', 'Winda'}\n"
     ]
    }
   ],
   "source": [
    "# Contoh 9\n",
    "jerman = {\"Joko\", \"Purwanto\", \"Winda\", \"Desi\"}\n",
    "inggris = {\"Jeki\", \"Purwanto\", \"Dona\", \"Desi\"}\n",
    "satu_bahasa = inggris ^ jerman\n",
    "print(satu_bahasa)\n",
    "bisa_satu = jerman.union(inggris) - inggris.intersection(jerman)\n",
    "print(bisa_satu)"
   ]
  },
  {
   "cell_type": "code",
   "execution_count": 12,
   "id": "959824a3-0d6c-41af-850f-054cd890034d",
   "metadata": {},
   "outputs": [
    {
     "name": "stdout",
     "output_type": "stream",
     "text": [
      "Aplikasi yang hanya muncul di satu kategori: {'App5', 'App1'}\n",
      "Aplikasi yang muncul tepat di dua kategori: {'App2', 'App4'}\n"
     ]
    }
   ],
   "source": [
    "# Latihan 12.1\n",
    "A = {\"App1\", \"App2\", \"App3\"}\n",
    "B = {\"App2\", \"App3\", \"App4\"}\n",
    "C = {\"App3\", \"App4\", \"App5\"}\n",
    "\n",
    "semua_aplikasi = A | B | C\n",
    "\n",
    "frekuensi = {}\n",
    "\n",
    "for aplikasi in semua_aplikasi:\n",
    "    count = 0  \n",
    "    if aplikasi in A:\n",
    "        count += 1\n",
    "    if aplikasi in B:\n",
    "        count += 1\n",
    "    if aplikasi in C:\n",
    "        count += 1\n",
    "    frekuensi[aplikasi] = count\n",
    "\n",
    "hanya_satu_kategori = set()\n",
    "for aplikasi, count in frekuensi.items():\n",
    "    if count == 1:\n",
    "        hanya_satu_kategori.add(aplikasi)\n",
    "\n",
    "tepat_dua_kategori = set()\n",
    "for aplikasi, count in frekuensi.items():\n",
    "    if count == 2:\n",
    "        tepat_dua_kategori.add(aplikasi)\n",
    "\n",
    "print(\"Aplikasi yang hanya muncul di satu kategori:\", hanya_satu_kategori)\n",
    "print(\"Aplikasi yang muncul tepat di dua kategori:\", tepat_dua_kategori)"
   ]
  },
  {
   "cell_type": "code",
   "execution_count": 14,
   "id": "37ee6442-b80a-4008-8531-eb1336c71af0",
   "metadata": {},
   "outputs": [
    {
     "name": "stdout",
     "output_type": "stream",
     "text": [
      "Sebelum (List): [1, 2, 2, 3, 4, 4, 5]\n",
      "Sesudah (Set): {1, 2, 3, 4, 5}\n",
      "\n",
      "Sebelum (Set): {40, 10, 20, 30}\n",
      "Sesudah (List): [40, 10, 20, 30]\n",
      "\n",
      "Sebelum (Tuple): (100, 200, 200, 300)\n",
      "Sesudah (Set): {200, 100, 300}\n",
      "\n",
      "Sebelum (Set): {8, 9, 7}\n",
      "Sesudah (Tuple): (8, 9, 7)\n"
     ]
    }
   ],
   "source": [
    "# Latihan 12.2\n",
    "# List menjadi Set\n",
    "data_list = [1, 2, 2, 3, 4, 4, 5]\n",
    "print(\"Sebelum (List):\", data_list)\n",
    "\n",
    "data_set = set(data_list)\n",
    "print(\"Sesudah (Set):\", data_set)\n",
    "\n",
    "print()\n",
    "\n",
    "# Set menjadi List\n",
    "data_set = {10, 20, 30, 30, 40}\n",
    "print(\"Sebelum (Set):\", data_set)\n",
    "\n",
    "data_list = list(data_set)\n",
    "print(\"Sesudah (List):\", data_list)\n",
    "\n",
    "print()\n",
    "\n",
    "# Tuple menjadi Set\n",
    "data_tuple = (100, 200, 200, 300)\n",
    "print(\"Sebelum (Tuple):\", data_tuple)\n",
    "\n",
    "data_set = set(data_tuple)\n",
    "print(\"Sesudah (Set):\", data_set)\n",
    "\n",
    "print()\n",
    "\n",
    "# Set menjadi Tuple\n",
    "data_set = {7, 8, 9}\n",
    "print(\"Sebelum (Set):\", data_set)\n",
    "\n",
    "data_tuple = tuple(data_set)\n",
    "print(\"Sesudah (Tuple):\", data_tuple)"
   ]
  },
  {
   "cell_type": "code",
   "execution_count": null,
   "id": "5428695a-c8a1-48ad-a7ee-37f7d85b8310",
   "metadata": {},
   "outputs": [],
   "source": [
    "# Latihan 12.3\n",
    "try:\n",
    "    file1 = input(\"Masukkan nama file pertama: \")\n",
    "    file2 = input(\"Masukkan nama file kedua: \")\n",
    "    with open(file1, 'r') as f1:\n",
    "        text1 = f1.read()\n",
    "    with open(file2, 'r') as f2:\n",
    "        text2 = f2.read()\n",
    "    text1 = text1.lower()\n",
    "    text2 = text2.lower()\n",
    "    words1 = set(text1.split())\n",
    "    words2 = set(text2.split())\n",
    "    common_words = words1 & words2\n",
    "\n",
    "    print(\"Kata yang muncul di kedua file:\", common_words)\n",
    "\n",
    "except FileNotFoundError:\n",
    "    print(\"Error: Salah satu file tidak ditemukan atau tidak dapat dibaca.\")"
   ]
  }
 ],
 "metadata": {
  "kernelspec": {
   "display_name": "Python [conda env:base] *",
   "language": "python",
   "name": "conda-base-py"
  },
  "language_info": {
   "codemirror_mode": {
    "name": "ipython",
    "version": 3
   },
   "file_extension": ".py",
   "mimetype": "text/x-python",
   "name": "python",
   "nbconvert_exporter": "python",
   "pygments_lexer": "ipython3",
   "version": "3.12.7"
  }
 },
 "nbformat": 4,
 "nbformat_minor": 5
}
