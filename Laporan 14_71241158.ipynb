{
 "cells": [
  {
   "cell_type": "code",
   "execution_count": null,
   "id": "d82704fd-8ec8-4d4a-9cd7-b9af86f4c51f",
   "metadata": {},
   "outputs": [],
   "source": [
    "# Contoh 1\n",
    "def nama_fungsi(parameter_fungsi):\n",
    "    baris\n",
    "    nama_fungsi(...)\n",
    "    baris"
   ]
  },
  {
   "cell_type": "code",
   "execution_count": 6,
   "id": "d5b26878-2dc7-4f5c-bf89-729902d984ea",
   "metadata": {},
   "outputs": [
    {
     "name": "stdout",
     "output_type": "stream",
     "text": [
      "24\n"
     ]
    }
   ],
   "source": [
    "# Contoh 2\n",
    "def faktorial(n):\n",
    "    if n == 0 or n == 1:\n",
    "        return 1\n",
    "    else:\n",
    "        return faktorial(n-1) * n\n",
    "\n",
    "print(faktorial(4))"
   ]
  },
  {
   "cell_type": "code",
   "execution_count": null,
   "id": "2c36bd7c-2832-4ee4-a457-8265d7fbb944",
   "metadata": {},
   "outputs": [],
   "source": [
    "# Contoh 3\n",
    "faktorial(4)               # pemanggilan pertama dengan 4\n",
    "4 * faktorial(3)           # pemanggilan kedua dengan 3\n",
    "4 * 3 * faktorial(2)       # pemanggilan ketiga dengan 2\n",
    "4 * 3 * 2 * faktorial(1)   # pemanggilan keempat dengan 1\n",
    "4 * 3 * 2 * 1                 # mengembalikan dari panggilan keempat \n",
    "4 * 3 * 2                     # mengembalikan dari panggilan ketiga\n",
    "4 * 6                         # mengembalikan dari panggilan kedua\n",
    "24                            # mengembalikan dari panggilan pertama"
   ]
  },
  {
   "cell_type": "code",
   "execution_count": 18,
   "id": "aabff171-53e2-4342-a53f-eb9c9f8f7b61",
   "metadata": {},
   "outputs": [
    {
     "name": "stdin",
     "output_type": "stream",
     "text": [
      "Masukkan nilai n:  5\n"
     ]
    },
    {
     "name": "stdout",
     "output_type": "stream",
     "text": [
      "Bilangan Fibonaccinya adalah: 3\n"
     ]
    }
   ],
   "source": [
    "# Contoh 4\n",
    "def Fibonacci(n):\n",
    "    if n == 1:\n",
    "        return 0\n",
    "    elif n == 2:\n",
    "        return 1\n",
    "    elif n > 2:\n",
    "        return Fibonacci(n - 1) + F(n - 2)\n",
    "\n",
    "n = int(input(\"Masukkan nilai n: \"))\n",
    "hasil = F(n)\n",
    "print(f\"Bilangan Fibonaccinya adalah: {hasil}\")"
   ]
  },
  {
   "cell_type": "code",
   "execution_count": null,
   "id": "ca3d690b-59f3-4168-89ea-c819d09d3379",
   "metadata": {},
   "outputs": [],
   "source": [
    "# Contoh 5\n",
    "Fibonacci(5)             # pemanggilan pertama dengan 5\n",
    "= F(4) + F(3)            # pemanggilan kedua dan ketiga\n",
    "\n",
    "Fibonacci(4)             # pemanggilan kedua dengan 4\n",
    "= F(3) + F(2)            # pemanggilan keempat dan kelima\n",
    "\n",
    "Fibonacci(3)             # pemanggilan ketiga dengan 3\n",
    "= F(2) + F(1)            # pemanggilan keenam dan ketujuh\n",
    "\n",
    "F(2) = 1                 # basis\n",
    "F(1) = 0                 # basis\n",
    "\n",
    "F(3) = 1 + 0 = 1         # mengembalikan dari pemanggilan keempat\n",
    "\n",
    "F(2) = 1                 # basis\n",
    "\n",
    "F(4) = 1 + 1 = 2         # mengembaikan dari panggilan kedua\n",
    "\n",
    "F(3)                     # pemanggilan ketiga dengan 3\n",
    "= F(2) + F(1)            # pemanggilan kedelapan dan kesembilan\n",
    "\n",
    "F(2) = 1                 # basis\n",
    "F(1) = 0                 # basis\n",
    "\n",
    "F(3) = 1 + 0 = 1         # mengembalikan dari pemanggilan ketiga\n",
    "\n",
    "F(5) = 2 + 1 = 3         # mengembalikan dari pemanggilan pertama"
   ]
  },
  {
   "cell_type": "code",
   "execution_count": 24,
   "id": "c6ffe40a-d88d-4d2d-9b58-4b8c7cff96ad",
   "metadata": {},
   "outputs": [
    {
     "name": "stdin",
     "output_type": "stream",
     "text": [
      "Masukkan bilangan yang akan diperiksa:  3\n"
     ]
    },
    {
     "name": "stdout",
     "output_type": "stream",
     "text": [
      "3 adalah bilangan prima\n"
     ]
    }
   ],
   "source": [
    "# latihan 13.1\n",
    "def cek_prima(n, pembagi=2):       \n",
    "    if n <= 1:                             \n",
    "        return False\n",
    "    if pembagi == n:                       \n",
    "        return True\n",
    "    if n % pembagi == 0:                  \n",
    "        return False\n",
    "    return cek_prima(n, pembagi + 1)       \n",
    "\n",
    "bilangan = int(input(\"Masukkan bilangan yang akan diperiksa: \"))  \n",
    "if cek_prima(bilangan):                                           \n",
    "    print(f\"{bilangan} adalah bilangan prima\")                   \n",
    "else:\n",
    "    print(f\"{bilangan} bukan bilangan prima\")"
   ]
  },
  {
   "cell_type": "code",
   "execution_count": 40,
   "id": "2dd99c83-7351-4dcc-96a3-7e5ec50585f3",
   "metadata": {},
   "outputs": [
    {
     "name": "stdin",
     "output_type": "stream",
     "text": [
      "Masukkan kalimat:  Kasur rusak\n"
     ]
    },
    {
     "name": "stdout",
     "output_type": "stream",
     "text": [
      "Kalimat ini adalah palindrome!\n"
     ]
    }
   ],
   "source": [
    "# Latihan 13.2\n",
    "def cek_palindrome(kalimat):                      \n",
    "    kalimat = kalimat.replace(\" \", \"\").lower()     \n",
    "    \n",
    "    if len(kalimat) <= 1:\n",
    "        return True\n",
    "\n",
    "    if kalimat[0] != kalimat[-1]:\n",
    "        return False                               \n",
    "    \n",
    "    return cek_palindrome(kalimat[1:-1])\n",
    "\n",
    "teks = input(\"Masukkan kalimat: \")                  \n",
    "if cek_palindrome(teks):                            \n",
    "    print(\"Kalimat ini adalah palindrome!\")          \n",
    "else:\n",
    "    print(\"Kalimat ini bukan palindrome!\")  "
   ]
  },
  {
   "cell_type": "code",
   "execution_count": 44,
   "id": "0d111a3c-299c-4a3f-bee6-40704010509f",
   "metadata": {},
   "outputs": [
    {
     "name": "stdin",
     "output_type": "stream",
     "text": [
      "Masukkan bilangan ganjil terakhir:  5\n"
     ]
    },
    {
     "name": "stdout",
     "output_type": "stream",
     "text": [
      "Jumlah deret ganjil hingga 5 adalah 9\n"
     ]
    }
   ],
   "source": [
    "# Latihan 13.3\n",
    "def jumlah_ganjil(n):                \n",
    "    if n == 1:                         \n",
    "        return 1\n",
    "    else:                               \n",
    "        return n + jumlah_ganjil(n - 2)\n",
    "\n",
    "bilangan = int(input(\"Masukkan bilangan ganjil terakhir: \")) \n",
    "if bilangan % 2 == 0:                                        \n",
    "    print(\"Input harus bilangan ganjil!\")\n",
    "else:\n",
    "    hasil = jumlah_ganjil(bilangan)                         \n",
    "    print(f\"Jumlah deret ganjil hingga {bilangan} adalah {hasil}\")"
   ]
  },
  {
   "cell_type": "code",
   "execution_count": 46,
   "id": "9b6e54fc-8e7e-417f-9636-bad5ee6c3c87",
   "metadata": {},
   "outputs": [
    {
     "name": "stdin",
     "output_type": "stream",
     "text": [
      "Masukkan bilangan yang diinginkan:  234\n"
     ]
    },
    {
     "name": "stdout",
     "output_type": "stream",
     "text": [
      "Jumlah digit dari 234 adalah 9\n"
     ]
    }
   ],
   "source": [
    "# Latihan 13.4\n",
    "def jumlah_digit(n):\n",
    "    if n < 10:\n",
    "        return n\n",
    "\n",
    "    return n % 10 + jumlah_digit(n // 10)\n",
    "\n",
    "angka = int(input(\"Masukkan bilangan yang diinginkan: \"))\n",
    "hasil = jumlah_digit(angka)\n",
    "print(f\"Jumlah digit dari {angka} adalah {hasil}\")"
   ]
  },
  {
   "cell_type": "code",
   "execution_count": 54,
   "id": "a653f181-4121-4b24-9818-a21cb6544f53",
   "metadata": {},
   "outputs": [
    {
     "name": "stdin",
     "output_type": "stream",
     "text": [
      "Masukkan nilai pertama:  2\n",
      "Masukkan nilai kedua 3\n"
     ]
    },
    {
     "name": "stdout",
     "output_type": "stream",
     "text": [
      "Kombinasi dari 2 ambil 3 adalah 0\n"
     ]
    }
   ],
   "source": [
    "# Latihan 13.5\n",
    "def kombinasi(n, r):\n",
    "    if r < 0 or n < 0 or r < n:\n",
    "        return 0\n",
    "    if r == 0 or r == 0:\n",
    "        return 1\n",
    "\n",
    "    return kombinasi(n - 1, r - 1) + kombinasi (n - 1, r)\n",
    "\n",
    "\n",
    "n = int(input(\"Masukkan nilai pertama: \"))\n",
    "r = int(input(\"Masukkan nilai kedua\"))\n",
    "hasil = kombinasi(n, r)\n",
    "print(f\"Kombinasi dari {n} ambil {r} adalah {hasil}\")"
   ]
  },
  {
   "cell_type": "code",
   "execution_count": null,
   "id": "94db73a9-1a98-43a7-991c-4b18d850d707",
   "metadata": {},
   "outputs": [],
   "source": []
  }
 ],
 "metadata": {
  "kernelspec": {
   "display_name": "Python [conda env:base] *",
   "language": "python",
   "name": "conda-base-py"
  },
  "language_info": {
   "codemirror_mode": {
    "name": "ipython",
    "version": 3
   },
   "file_extension": ".py",
   "mimetype": "text/x-python",
   "name": "python",
   "nbconvert_exporter": "python",
   "pygments_lexer": "ipython3",
   "version": "3.12.7"
  }
 },
 "nbformat": 4,
 "nbformat_minor": 5
}
