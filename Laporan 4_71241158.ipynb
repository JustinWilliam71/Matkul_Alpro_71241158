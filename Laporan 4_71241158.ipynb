{
 "cells": [
  {
   "cell_type": "code",
   "execution_count": 2,
   "id": "00023924-647d-4dae-8385-3e188c46e86f",
   "metadata": {},
   "outputs": [
    {
     "data": {
      "text/plain": [
       "True"
      ]
     },
     "execution_count": 2,
     "metadata": {},
     "output_type": "execute_result"
    }
   ],
   "source": [
    "pembelian = 120000\n",
    "pembelian >= 100000"
   ]
  },
  {
   "cell_type": "code",
   "execution_count": 4,
   "id": "315f77e5-caf0-4e6f-87f1-ce1c85393735",
   "metadata": {},
   "outputs": [
    {
     "data": {
      "text/plain": [
       "False"
      ]
     },
     "execution_count": 4,
     "metadata": {},
     "output_type": "execute_result"
    }
   ],
   "source": [
    "pembelian = 12000\n",
    "pembelian >= 100000"
   ]
  },
  {
   "cell_type": "code",
   "execution_count": 14,
   "id": "787e828d-acc3-45ba-9d69-278bb8bc8215",
   "metadata": {},
   "outputs": [
    {
     "ename": "SyntaxError",
     "evalue": "invalid syntax. Perhaps you forgot a comma? (1202990010.py, line 2)",
     "output_type": "error",
     "traceback": [
      "\u001b[1;36m  Cell \u001b[1;32mIn[14], line 2\u001b[1;36m\u001b[0m\n\u001b[1;33m    if (Kondisi yang akan digunakan):\u001b[0m\n\u001b[1;37m        ^\u001b[0m\n\u001b[1;31mSyntaxError\u001b[0m\u001b[1;31m:\u001b[0m invalid syntax. Perhaps you forgot a comma?\n"
     ]
    }
   ],
   "source": [
    "#Contoh 1 conditional\n",
    "if (Kondisi yang akan digunakan):\n",
    "    <Perintah>\n",
    "    <Perintah>"
   ]
  },
  {
   "cell_type": "code",
   "execution_count": null,
   "id": "a072b7c9-ec7b-4b91-bbb1-08173f3a2313",
   "metadata": {},
   "outputs": [],
   "source": [
    "#Contoh 2 conditional\n",
    "if suhu > 38:\n",
    "    print(\"Anda demam\""
   ]
  },
  {
   "cell_type": "code",
   "execution_count": null,
   "id": "9f9670ee-2ec7-4a0f-8951-a0cfa6fa682e",
   "metadata": {},
   "outputs": [],
   "source": [
    "#Contoh 3 conditional\n",
    "if (kondisi yang akan digunakan):\n",
    "    <perintah>\n",
    "    <perintah>\n",
    "else:\n",
    "    <perintah>\n",
    "    <perintah>"
   ]
  },
  {
   "cell_type": "code",
   "execution_count": null,
   "id": "68fb3fcf-d4d6-43a6-abf7-a3f9ac78d5c4",
   "metadata": {},
   "outputs": [],
   "source": [
    "#contoh conditional\n",
    "if nilai > 60:\n",
    "    print(\"Lulus\")\n",
    "else:\n",
    "    print(\"Tidak lulus\")"
   ]
  },
  {
   "cell_type": "code",
   "execution_count": null,
   "id": "4a91a118-6f5c-4165-9209-fc3583b64710",
   "metadata": {},
   "outputs": [],
   "source": [
    "#Contoh kondisi chained\n",
    "if (kondisi yang digunakan):\n",
    "    <perintah>\n",
    "    <perintah>\n",
    "elif (kondisi yang akan digunakan):\n",
    "    <perintah>\n",
    "    <perintah>\n",
    "elif (kondisi yang akan digunakan):\n",
    "    <perintah>\n",
    "    <perintah>\n",
    "else:\n",
    "    <perintah>\n",
    "    <perintah>"
   ]
  },
  {
   "cell_type": "code",
   "execution_count": null,
   "id": "3612cd10-5b83-4890-9dda-78b4449b0aaf",
   "metadata": {},
   "outputs": [],
   "source": [
    "#Contoh chained condition 2 (Diskon)\n",
    "if harga_beli > 1000000:\n",
    "    diskon = 0.3\n",
    "elif harga_beli > 500000 and harga_beli <= 1000000:\n",
    "    diskon = 0.2\n",
    "elif harga_beli >= 100000 and harga_beli <= 500000:\n",
    "    diskon = 0.15\n",
    "else:\n",
    "    diskon = 0"
   ]
  },
  {
   "cell_type": "code",
   "execution_count": null,
   "id": "28cc34df-c33d-44cc-a0c1-0e9e7cae240c",
   "metadata": {},
   "outputs": [],
   "source": [
    "#Contoh Tenary Operator\n",
    "pembelian = int(input(\"Jumlah pembelian\"))\n",
    "diskon = 0.1 if pembelian > 100000 else 0"
   ]
  },
  {
   "cell_type": "code",
   "execution_count": null,
   "id": "3b19c90e-4d71-4f59-a413-618275314cd0",
   "metadata": {},
   "outputs": [],
   "source": [
    "#Contoh Tenary operator 2\n",
    "pembelian = int(input(\"Jumlah pembelian\"))\n",
    "if pembelian > 100000:\n",
    "    diskon = 0.1\n",
    "else:\n",
    "    diskon = 0"
   ]
  },
  {
   "cell_type": "code",
   "execution_count": 12,
   "id": "fdaa7459-b776-4a5b-a5a7-8b5816cb6bb9",
   "metadata": {},
   "outputs": [
    {
     "name": "stdin",
     "output_type": "stream",
     "text": [
      "Masukkan usia anda:  3\n"
     ]
    },
    {
     "name": "stdout",
     "output_type": "stream",
     "text": [
      "Balita\n"
     ]
    }
   ],
   "source": [
    "#Contoh Exception Handling\n",
    "usia = int(input(\"Masukkan usia anda: \"))\n",
    "if usia <= 5:\n",
    "    print(\"Balita\")\n",
    "elif usia >= 6 and usia <= 11:\n",
    "    print(\"Kanak-kanak\")\n",
    "elif usia >= 12 and usia <= 25:\n",
    "    print(\"Remaja\")\n",
    "elif usia >= 26 and usia <= 45:\n",
    "    print(\"Dewasa\")\n",
    "elif usia > 45:\n",
    "    print(\"Lansia\")"
   ]
  },
  {
   "cell_type": "code",
   "execution_count": 10,
   "id": "d5723314-2a6d-4043-8e38-a5d3b02dc885",
   "metadata": {},
   "outputs": [
    {
     "name": "stdin",
     "output_type": "stream",
     "text": [
      "Masukkan usia anda:  dua belas\n"
     ]
    },
    {
     "name": "stdout",
     "output_type": "stream",
     "text": [
      "Input usia salah, gunakan bilangan bulat!\n"
     ]
    }
   ],
   "source": [
    "#Contoh Exception Handling (Try and Except)\n",
    "umur = input(\"Masukkan usia anda: \")\n",
    "try:\n",
    "    usia = int(umur)\n",
    "    if usia <= 5:\n",
    "        print(\"Balita\")\n",
    "    elif usia >= 6 and usia <= 11:\n",
    "        print(\"Kanak-kanak\")\n",
    "    elif usia >= 12 and usia <= 25:\n",
    "        print(\"Remaja\")\n",
    "    elif usia >= 26 and usia <= 45:\n",
    "        print(\"Dewasa\")\n",
    "    elif usia > 45:\n",
    "        print(\"Lansia\")\n",
    "except:\n",
    "    print(\"Input usia salah, gunakan bilangan bulat!\")"
   ]
  },
  {
   "cell_type": "code",
   "execution_count": null,
   "id": "4e29cbb0-bf28-4d4d-849b-2bfb5753008a",
   "metadata": {},
   "outputs": [],
   "source": [
    "#Latihan 4.1\n",
    "#Contoh 4.1\n",
    "suhu = input(\"Masukkan suhu tubuh: \")\n",
    "\n",
    "if suhu.isdigit():\n",
    "    suhu = int(suhu)\n",
    "    if suhu >= 38:\n",
    "        print(\"Anda demam\")\n",
    "    elif suhu <= 37:\n",
    "        print(\"Anda tidak demam\")\n",
    "else:\n",
    "    print(\"Masukkan bilangan bulat saja\")"
   ]
  },
  {
   "cell_type": "code",
   "execution_count": null,
   "id": "d9badb69-b268-44f7-a8cb-85eb5b481b58",
   "metadata": {},
   "outputs": [],
   "source": [
    "#Latihan 4.1\n",
    "#Contoh 4.2\n",
    "try:\n",
    "    bilangan = int(input(\"Masukkan suatu bilangan: \"))\n",
    "    if bilangan > 0:\n",
    "        print(\"Positif\")\n",
    "    elif bilangan < 0:\n",
    "        print(\"Negatif\")\n",
    "    elif bilangan == 0:\n",
    "        print(\"Nol\")\n",
    "except ValueError:\n",
    "    print(\"Mohon hanya memasukkan bilangan saja!\")"
   ]
  },
  {
   "cell_type": "code",
   "execution_count": null,
   "id": "f431463d-76a9-423a-8349-4c426778c193",
   "metadata": {},
   "outputs": [],
   "source": [
    "#Latihan 4.1\n",
    "#Contoh 4.3\n",
    "try:\n",
    "    a = int(input(\"Masukkan bilangan pertama: \"))\n",
    "    b = int(input(\"Masukkan bilangan kedua: \"))\n",
    "    c = int(input(\"Masukkan bilangan ketiga: \"))\n",
    "\n",
    "    # secara berurutan tulis kriteria untuk a, b, dan c\n",
    "    if a > b and a > c:\n",
    "        print(\"Terbesar: \", a)\n",
    "    elif b > a and b > c:\n",
    "        print(\"Terbesar: \", b)\n",
    "    elif c > a and c > b:\n",
    "        print(\"Terbesar: \", c)\n",
    "        \n",
    "except ValueError:\n",
    "    print(\"Masukkan bilangan bulat saja!\")"
   ]
  },
  {
   "cell_type": "code",
   "execution_count": null,
   "id": "164b782d-cba8-4a5e-b2aa-b14a5f204bdd",
   "metadata": {},
   "outputs": [],
   "source": [
    "#Latihan 4.2 (Bentuk Tenary dari contoh 4.2)\n",
    "try:\n",
    "    bilangan = int(input(\"Masukkan suatu bilangan: \"))\n",
    "    kondisi = \"Positif\" if bilangan > 0 else \"Negatif\" if bilangan < 0 else \"Nol\"\n",
    "    print(kondisi)\n",
    "except ValueError:\n",
    "    print(\"Mohon hanya memasukkan bilangan saja!\")"
   ]
  },
  {
   "cell_type": "code",
   "execution_count": null,
   "id": "cff3d480-a00c-42d7-8392-bc65e9ecf6c2",
   "metadata": {},
   "outputs": [],
   "source": [
    "#Latihan 4.3\n",
    "jumlah_hari ={1: 31, 2: 29, 3: 31, 4: 30, 5: 31, 6: 30, 7: 31, 8: 31, 9: 30, 10: 31, 11: 30, 12: 31}\n",
    "bulan = input(\"Masukkan bulan:\\n\")\n",
    "if bulan.isdigit():\n",
    "    bulan = int(bulan)\n",
    "    if bulan in jumlah_hari:\n",
    "        print(f\"Jumlah hari dalam bulan tersebut adalah: {jumlah_hari[bulan]}\")\n",
    "    else:\n",
    "        print(\"Bulan tidak valid\")\n",
    "else:\n",
    "    print(\"Harap hanya memasukkan bilangan 1 - 12 saja\")"
   ]
  },
  {
   "cell_type": "code",
   "execution_count": null,
   "id": "514525d4-fec8-4cb1-bf5d-4d51faf11fb1",
   "metadata": {},
   "outputs": [],
   "source": [
    "#Latihan 4.4\n",
    "pertama = input(\"Masukkan sisi 1: \")\n",
    "kedua = input(\"Masukkan sisi 2: \")\n",
    "ketiga = input(\"Masukkan sisi 3: \")\n",
    "\n",
    "if pertama.isdigit() and kedua.isdigit() and ketiga.isdigit():\n",
    "    pertama = int(pertama)\n",
    "    kedua = int(kedua)\n",
    "    ketiga = int(ketiga)\n",
    "    if pertama == kedua == ketiga:\n",
    "        print(\"3 sisi sama\")\n",
    "    elif pertama == kedua or kedua == ketiga or pertama == ketiga:\n",
    "            print(\"2 sisi sama\") \n",
    "    else:\n",
    "        print(\"Tidak ada yang sama\")\n",
    "else:\n",
    "    print(\"Input tidak valid, harap hanya memasukkan bilangan bulat saja\")"
   ]
  }
 ],
 "metadata": {
  "kernelspec": {
   "display_name": "Python [conda env:base] *",
   "language": "python",
   "name": "conda-base-py"
  },
  "language_info": {
   "codemirror_mode": {
    "name": "ipython",
    "version": 3
   },
   "file_extension": ".py",
   "mimetype": "text/x-python",
   "name": "python",
   "nbconvert_exporter": "python",
   "pygments_lexer": "ipython3",
   "version": "3.12.7"
  }
 },
 "nbformat": 4,
 "nbformat_minor": 5
}
