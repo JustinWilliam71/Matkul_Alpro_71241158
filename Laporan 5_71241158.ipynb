{
 "cells": [
  {
   "cell_type": "code",
   "execution_count": 10,
   "id": "a6d37c7d-32fe-4f1f-a6cd-07de8a35f2e3",
   "metadata": {},
   "outputs": [],
   "source": [
    "#Contoh 1\n",
    "def pengalian(a,b):\n",
    "    total = a * b\n",
    "    return total"
   ]
  },
  {
   "cell_type": "code",
   "execution_count": 8,
   "id": "1bd492ee-974d-46fd-a6fa-7142c40a9ece",
   "metadata": {},
   "outputs": [
    {
     "name": "stdout",
     "output_type": "stream",
     "text": [
      "15\n"
     ]
    }
   ],
   "source": [
    "#Contoh 2\n",
    "def pengalian(a,b):\n",
    "    total = a * b\n",
    "    return total\n",
    "\n",
    "print(pengalian(5,3))"
   ]
  },
  {
   "cell_type": "code",
   "execution_count": 2,
   "id": "221e4ca3-cccc-4e36-a95e-a1f16773d5e5",
   "metadata": {},
   "outputs": [
    {
     "name": "stdout",
     "output_type": "stream",
     "text": [
      "15\n"
     ]
    }
   ],
   "source": [
    "#Contoh 3\n",
    "def pengalian(a,b):\n",
    "    total = a * b\n",
    "    return total\n",
    "\n",
    "proses = pengalian(5,3)\n",
    "print(proses)"
   ]
  },
  {
   "cell_type": "code",
   "execution_count": 10,
   "id": "16c69ed2-818d-4376-9d05-0b69ffc7a65f",
   "metadata": {},
   "outputs": [
    {
     "name": "stdout",
     "output_type": "stream",
     "text": [
      "Hello World!\n",
      "Hello World!\n",
      "None\n"
     ]
    }
   ],
   "source": [
    "#Contoh 4\n",
    "def print_twice(message):\n",
    "    print(message)\n",
    "    print(message)\n",
    "\n",
    "print(print_twice(\"Hello World!\"))"
   ]
  },
  {
   "cell_type": "code",
   "execution_count": 16,
   "id": "6ef26bc8-d29e-48c0-b6fa-5822f75e71ea",
   "metadata": {},
   "outputs": [
    {
     "ename": "TypeError",
     "evalue": "pengalian() missing 2 required positional arguments: 'b' and 'c'",
     "output_type": "error",
     "traceback": [
      "\u001b[1;31m---------------------------------------------------------------------------\u001b[0m",
      "\u001b[1;31mTypeError\u001b[0m                                 Traceback (most recent call last)",
      "Cell \u001b[1;32mIn[16], line 2\u001b[0m\n\u001b[0;32m      1\u001b[0m \u001b[38;5;66;03m#Contoh 5 (Error)\u001b[39;00m\n\u001b[1;32m----> 2\u001b[0m proses \u001b[38;5;241m=\u001b[39m pengalian(\u001b[38;5;241m5\u001b[39m\u001b[38;5;241m*\u001b[39m\u001b[38;5;241m3\u001b[39m)\n\u001b[0;32m      3\u001b[0m \u001b[38;5;28mprint\u001b[39m(proses)\n\u001b[0;32m      5\u001b[0m \u001b[38;5;28;01mdef\u001b[39;00m \u001b[38;5;21mpengalian\u001b[39m(a,b):\n",
      "\u001b[1;31mTypeError\u001b[0m: pengalian() missing 2 required positional arguments: 'b' and 'c'"
     ]
    }
   ],
   "source": [
    "#Contoh 5 (Error)\n",
    "proses = pengalian(5*3)\n",
    "print(proses)\n",
    "\n",
    "def pengalian(a,b):\n",
    "    total = (a * b)\n",
    "    return total"
   ]
  },
  {
   "cell_type": "code",
   "execution_count": null,
   "id": "9df172ae-dcf0-4335-a2aa-398125bdf0ca",
   "metadata": {},
   "outputs": [],
   "source": [
    "#Contoh 6\n",
    "def hitung_uang(belanja, diskon=0):\n",
    "    total = belanja - (belanja * diskon)/100\n",
    "    return bayar"
   ]
  },
  {
   "cell_type": "code",
   "execution_count": 6,
   "id": "38ddcb49-a204-46b3-8d52-c00c97120a8b",
   "metadata": {},
   "outputs": [
    {
     "name": "stdout",
     "output_type": "stream",
     "text": [
      "85000.0\n",
      "80000.0\n",
      "75000.0\n"
     ]
    }
   ],
   "source": [
    "#Contoh 7\n",
    "def hitung_uang(belanja, diskon=15):\n",
    "    total = belanja - (belanja * diskon)/100\n",
    "    return total\n",
    "\n",
    "print(hitung_uang(100000))\n",
    "print(hitung_uang(100000, 20))\n",
    "print(hitung_uang(100000, 25))"
   ]
  },
  {
   "cell_type": "code",
   "execution_count": 8,
   "id": "0dace20e-2985-4df3-b942-34abcd812dd4",
   "metadata": {},
   "outputs": [
    {
     "name": "stdout",
     "output_type": "stream",
     "text": [
      "150\n"
     ]
    }
   ],
   "source": [
    "#Contoh 8\n",
    "def pengalian(a,b,c):\n",
    "    total = a * b * c\n",
    "    return total\n",
    "\n",
    "proses = pengalian(b=5, a=3, c=10)\n",
    "print(proses)"
   ]
  },
  {
   "cell_type": "code",
   "execution_count": 12,
   "id": "f3e6790c-a91d-4f13-97c4-b3f1cf85b5b1",
   "metadata": {},
   "outputs": [
    {
     "name": "stdout",
     "output_type": "stream",
     "text": [
      "15\n"
     ]
    }
   ],
   "source": [
    "pengalian = lambda a,b : a * b\n",
    "print(pengalian(5,3))"
   ]
  },
  {
   "cell_type": "code",
   "execution_count": 26,
   "id": "65015dc9-0514-4424-bd65-9be4cd1b2f17",
   "metadata": {},
   "outputs": [
    {
     "name": "stdout",
     "output_type": "stream",
     "text": [
      "True\n"
     ]
    }
   ],
   "source": [
    "#latihan 5.1\n",
    "def cek_angka(angka1,angka2,angka3=0):\n",
    "    if angka1 != angka2 != angka3 != angka1:\n",
    "        if angka1 + angka2 == angka3 or angka2 + angka3 == angka1 or angka3 + angka1 == angka2:\n",
    "            return True\n",
    "        else:\n",
    "            return False\n",
    "    else:\n",
    "        return False\n",
    "\n",
    "print(cek_angka(1,3,4))"
   ]
  },
  {
   "cell_type": "code",
   "execution_count": 32,
   "id": "bcd5af5f-eda0-4877-b486-39dcdad21461",
   "metadata": {},
   "outputs": [
    {
     "name": "stdout",
     "output_type": "stream",
     "text": [
      "True\n"
     ]
    }
   ],
   "source": [
    "#latihan 5.2\n",
    "def cek_digit_belakang(angka1,angka2,angka3):\n",
    "    x = angka1 % 10\n",
    "    y = angka2 % 10\n",
    "    z = angka3 % 10\n",
    "    if x == y == z == x == z:\n",
    "        return True\n",
    "    else:\n",
    "        return False\n",
    "print(cek_digit_belakang(1024, 14, 94))"
   ]
  },
  {
   "cell_type": "code",
   "execution_count": 34,
   "id": "76658321-0ad7-4bbc-bc50-0c95e351b0c2",
   "metadata": {},
   "outputs": [
    {
     "name": "stdout",
     "output_type": "stream",
     "text": [
      "212.0\n",
      "64.0\n",
      "32.0\n"
     ]
    }
   ],
   "source": [
    "#Latihan 5.3\n",
    "#Kondisi 1\n",
    "konversi_faren = lambda F : (9 / 5) * F + 32\n",
    "print(konversi_faren(100))\n",
    "\n",
    "#Kondisi 2\n",
    "konversi_ream = lambda R : 0.8 * R\n",
    "print(konversi_ream(80))\n",
    "\n",
    "#Farenheit = 0\n",
    "print(konversi_faren(0))"
   ]
  },
  {
   "cell_type": "code",
   "execution_count": null,
   "id": "58514309-dc85-430f-b77f-0b8e19b2c549",
   "metadata": {},
   "outputs": [],
   "source": []
  }
 ],
 "metadata": {
  "kernelspec": {
   "display_name": "Python [conda env:base] *",
   "language": "python",
   "name": "conda-base-py"
  },
  "language_info": {
   "codemirror_mode": {
    "name": "ipython",
    "version": 3
   },
   "file_extension": ".py",
   "mimetype": "text/x-python",
   "name": "python",
   "nbconvert_exporter": "python",
   "pygments_lexer": "ipython3",
   "version": "3.12.7"
  }
 },
 "nbformat": 4,
 "nbformat_minor": 5
}
