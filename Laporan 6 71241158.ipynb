{
 "cells": [
  {
   "cell_type": "code",
   "execution_count": 2,
   "id": "2d3b7b68-b0d9-44fa-b796-be2e55f3c60c",
   "metadata": {},
   "outputs": [
    {
     "name": "stdout",
     "output_type": "stream",
     "text": [
      "1\n",
      "2\n",
      "3\n",
      "4\n",
      "5\n",
      "6\n",
      "7\n",
      "8\n",
      "9\n",
      "10\n"
     ]
    }
   ],
   "source": [
    "#Contoh 1\n",
    "for i in range(1, 11):\n",
    "    print(i)"
   ]
  },
  {
   "cell_type": "code",
   "execution_count": 68,
   "id": "379e6b00-09b6-4fa7-bbfa-ef54c0df3a16",
   "metadata": {},
   "outputs": [
    {
     "name": "stdout",
     "output_type": "stream",
     "text": [
      "Halo, apa kabar?\n",
      "Halo, apa kabar?\n",
      "Halo, apa kabar?\n",
      "Halo, apa kabar?\n",
      "Halo, apa kabar?\n",
      "Halo, apa kabar?\n",
      "Halo, apa kabar?\n",
      "Halo, apa kabar?\n",
      "Halo, apa kabar?\n",
      "Halo, apa kabar?\n"
     ]
    }
   ],
   "source": [
    "#Contoh 2\n",
    "for i in range(1, 11):\n",
    "    print(\"Halo, apa kabar?\")"
   ]
  },
  {
   "cell_type": "code",
   "execution_count": 70,
   "id": "31c27ef6-1b88-4397-b62c-31f43f62efd7",
   "metadata": {},
   "outputs": [
    {
     "name": "stdout",
     "output_type": "stream",
     "text": [
      "1\n",
      "3\n",
      "5\n",
      "7\n",
      "9\n",
      "11\n",
      "13\n",
      "15\n",
      "17\n",
      "19\n"
     ]
    }
   ],
   "source": [
    "#Contoh 3\n",
    "for i in range(1, 20, 2):\n",
    "    print(i)"
   ]
  },
  {
   "cell_type": "code",
   "execution_count": 74,
   "id": "47fa8ffb-d66e-4eff-8f55-7c12b96e318a",
   "metadata": {},
   "outputs": [
    {
     "name": "stdout",
     "output_type": "stream",
     "text": [
      "21\n",
      "19\n",
      "17\n",
      "15\n",
      "13\n",
      "11\n",
      "9\n",
      "7\n",
      "5\n",
      "3\n",
      "1\n"
     ]
    }
   ],
   "source": [
    "#Contoh 4\n",
    "for i in range(21, 0, -2):\n",
    "    print(i)"
   ]
  },
  {
   "cell_type": "code",
   "execution_count": null,
   "id": "ba65f2b6-3cee-4fed-9fc6-2fbdaf0d39a8",
   "metadata": {},
   "outputs": [],
   "source": [
    "#Contoh 5\n",
    "while <stop>:\n",
    "    operasi\n",
    "    operasi\n",
    "    <step (opsional)>"
   ]
  },
  {
   "cell_type": "code",
   "execution_count": 91,
   "id": "77375b8d-a7b5-4d9c-bc4e-267ec8f0de63",
   "metadata": {},
   "outputs": [
    {
     "name": "stdin",
     "output_type": "stream",
     "text": [
      "Masukkan bilangan ganjil 2\n",
      "Masukkan bilangan ganjil 4\n",
      "Masukkan bilangan ganjil 6\n",
      "Masukkan bilangan ganjil 8\n",
      "Masukkan bilangan ganjil 10\n",
      "Masukkan bilangan ganjil 12\n",
      "Masukkan bilangan ganjil 14\n",
      "Masukkan bilangan ganjil 100\n",
      "Masukkan bilangan ganjil 55\n"
     ]
    },
    {
     "name": "stdout",
     "output_type": "stream",
     "text": [
      "55 Adalah ganjil\n"
     ]
    }
   ],
   "source": [
    "# Contoh 6\n",
    "bilangan = 0\n",
    "ganjil = False\n",
    "while ganjil == False:\n",
    "    bilangan = int(input(\"Masukkan bilangan ganjil\"))\n",
    "    if bilangan % 2 == 1:\n",
    "        ganjil = True\n",
    "\n",
    "print(bilangan, \"Adalah ganjil\")"
   ]
  },
  {
   "cell_type": "code",
   "execution_count": 97,
   "id": "21bd9454-2a56-4a7e-822f-8f2f76db4b90",
   "metadata": {},
   "outputs": [
    {
     "name": "stdout",
     "output_type": "stream",
     "text": [
      "1\n",
      "2\n",
      "3\n",
      "4\n",
      "5\n",
      "6\n",
      "7\n",
      "8\n",
      "9\n",
      "10\n",
      "Selesai\n"
     ]
    }
   ],
   "source": [
    "#Contoh 7\n",
    "for i in range (1, 11):\n",
    "    print(i)\n",
    "print(\"Selesai\")"
   ]
  },
  {
   "cell_type": "code",
   "execution_count": 99,
   "id": "6abb1b1c-1387-46cd-92ea-55c4fcac92e7",
   "metadata": {},
   "outputs": [
    {
     "name": "stdout",
     "output_type": "stream",
     "text": [
      "1\n",
      "2\n",
      "3\n",
      "4\n",
      "Selesai\n"
     ]
    }
   ],
   "source": [
    "#Contoh 8\n",
    "for i in range (1, 11):\n",
    "    if i == 5:\n",
    "        break\n",
    "    else:\n",
    "        print(i)\n",
    "        \n",
    "print(\"Selesai\")"
   ]
  },
  {
   "cell_type": "code",
   "execution_count": 103,
   "id": "96d814c0-0f10-499a-9260-242c49a813d6",
   "metadata": {},
   "outputs": [
    {
     "name": "stdout",
     "output_type": "stream",
     "text": [
      "5\n",
      "6\n",
      "7\n",
      "8\n",
      "9\n",
      "10\n",
      "11\n",
      "12\n",
      "14\n",
      "Selesai\n"
     ]
    }
   ],
   "source": [
    "#Contoh 9\n",
    "for i in range(5, 15):\n",
    "    if i == 13:\n",
    "        continue\n",
    "    else:\n",
    "        print(i)\n",
    "\n",
    "print(\"Selesai\")"
   ]
  },
  {
   "cell_type": "code",
   "execution_count": 107,
   "id": "48f7cf95-3335-49d3-b1e9-114df1452831",
   "metadata": {},
   "outputs": [
    {
     "name": "stdout",
     "output_type": "stream",
     "text": [
      "1\n",
      "2\n",
      "3\n",
      "4\n",
      "5\n"
     ]
    }
   ],
   "source": [
    "#Contoh 10\n",
    "i = 1               #Nilai Awal\n",
    "while i <= 5:       #Nilai Akhir\n",
    "    print(i)\n",
    "    i = i + 1       #Step"
   ]
  },
  {
   "cell_type": "code",
   "execution_count": 137,
   "id": "ce2d3466-7115-4bad-8c74-3476fc4c47a0",
   "metadata": {},
   "outputs": [
    {
     "name": "stdout",
     "output_type": "stream",
     "text": [
      "6 x 5 = 5 + 5 + 5 + 5 + 5 + 5 = 30\n",
      "7 x 10 = 10 + 10 + 10 + 10 + 10 + 10 + 10 = 70\n"
     ]
    }
   ],
   "source": [
    "#Latihan 6.1\n",
    "def perkalian(angka1, angka2):\n",
    "    hitung = angka1 * angka2\n",
    "    print(angka1, 'x', angka2, '=', end=\" \")\n",
    "    for i in range(angka1 -1):\n",
    "        print(angka2, '+', end=' ')\n",
    "    print(angka2, '=', hitung)\n",
    "        \n",
    "perkalian(6, 5)\n",
    "perkalian(7, 10)"
   ]
  },
  {
   "cell_type": "code",
   "execution_count": 155,
   "id": "b6977b0c-d78e-41ee-8272-20b36695637d",
   "metadata": {},
   "outputs": [
    {
     "name": "stdin",
     "output_type": "stream",
     "text": [
      "Masukkan batas bawah:  10\n",
      "Masukkan batas atas:  30\n"
     ]
    },
    {
     "name": "stdout",
     "output_type": "stream",
     "text": [
      "11 13 15 17 19 21 23 25 27 29 \n",
      "\n"
     ]
    }
   ],
   "source": [
    "#Latihan 6.2\n",
    "def ganjil(batas_bawah, batas_atas):\n",
    "    if batas_bawah < batas_atas:\n",
    "        if batas_bawah % 2 == 0:\n",
    "            batas_bawah += 1\n",
    "        for i in range(batas_bawah, batas_atas + 1, 2):\n",
    "            print(i, end=' ')\n",
    "    else:\n",
    "        if batas_bawah % 2 == 0:\n",
    "            batas_bawah -= 1\n",
    "        for i in range(batas_bawah, batas_atas - 1, -2):\n",
    "            print(i, end=' ')\n",
    "    print(\"\\n\")\n",
    "\n",
    "while True:\n",
    "    try:\n",
    "        batas_bawah = int(input(\"Masukkan batas bawah: \"))\n",
    "        batas_atas = int(input(\"Masukkan batas atas: \"))\n",
    "        break\n",
    "    except ValueError:\n",
    "        print(\"Input tidak valid! Harap masukkan angka.\")\n",
    "\n",
    "ganjil(batas_bawah, batas_atas)"
   ]
  },
  {
   "cell_type": "code",
   "execution_count": 149,
   "id": "56f329b4-d315-48a7-94f9-df885b0d27c7",
   "metadata": {},
   "outputs": [
    {
     "name": "stdin",
     "output_type": "stream",
     "text": [
      "Berapa jumlah matkul:  6\n",
      "Nilai MK 1:  A\n",
      "Nilai MK 2:  B\n",
      "Nilai MK 3:  C\n",
      "Nilai MK 4:  A\n",
      "Nilai MK 5:  D\n",
      "Nilai MK 6:  C\n"
     ]
    },
    {
     "name": "stdout",
     "output_type": "stream",
     "text": [
      "Nilai IPS anda semester ini 2.67\n"
     ]
    }
   ],
   "source": [
    "#Latihan 6.3\n",
    "def indeks_prestasi(jumlah_matkul):\n",
    "    list_nilai = []\n",
    "    nilai = 0\n",
    "    for i in range (0, jumlah_matkul):\n",
    "        a = input(f'Nilai MK {i + 1}: ')\n",
    "        list_nilai += [a]\n",
    "        if list_nilai[i] == \"A\":\n",
    "            nilai += 4\n",
    "        elif list_nilai[i] == \"B\":\n",
    "            nilai += 3\n",
    "        elif list_nilai[i] == \"C\":\n",
    "            nilai += 2\n",
    "        elif list_nilai[i] == \"D\":\n",
    "            nilai += 1\n",
    "        else:\n",
    "            print(\"Input tidak valid\")\n",
    "            return\n",
    "    hasil = round(nilai / jumlah_matkul, 2)\n",
    "    print(f'Nilai IPS anda semester ini {hasil}')\n",
    "\n",
    "while True:\n",
    "    try:\n",
    "        jumlah_matkul = int(input(\"Berapa jumlah matkul: \"))\n",
    "        if jumlah_matkul > 0:\n",
    "            break\n",
    "        else:\n",
    "            print(\"Jumlah mata kuliah tidak boleh kurang dari 1\")\n",
    "    except ValueError:\n",
    "        print(\"Input tidak valid, masukkan angka saja\")\n",
    "\n",
    "\n",
    "indeks_prestasi(jumlah_matkul)"
   ]
  }
 ],
 "metadata": {
  "kernelspec": {
   "display_name": "Python [conda env:base] *",
   "language": "python",
   "name": "conda-base-py"
  },
  "language_info": {
   "codemirror_mode": {
    "name": "ipython",
    "version": 3
   },
   "file_extension": ".py",
   "mimetype": "text/x-python",
   "name": "python",
   "nbconvert_exporter": "python",
   "pygments_lexer": "ipython3",
   "version": "3.12.7"
  }
 },
 "nbformat": 4,
 "nbformat_minor": 5
}
