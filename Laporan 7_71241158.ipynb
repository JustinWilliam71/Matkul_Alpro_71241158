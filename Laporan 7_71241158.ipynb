{
 "cells": [
  {
   "cell_type": "code",
   "execution_count": null,
   "id": "67f95f0e-aa39-4e6e-8545-a4d650ac80bd",
   "metadata": {},
   "outputs": [],
   "source": [
    "if kondisi1:\n",
    "    if kondisi2:\n",
    "        <perintah>\n",
    "        <perintah>\n",
    "else:\n",
    "    <perintah>\n",
    "    <perintah>"
   ]
  },
  {
   "cell_type": "code",
   "execution_count": null,
   "id": "756b5faf-9c4c-412b-acd6-2b2369e30b04",
   "metadata": {},
   "outputs": [],
   "source": [
    "if kondisi1:\n",
    "    <perintah>\n",
    "    if kondisi2:\n",
    "        <perintah>\n",
    "        <perintah>\n",
    "    else:\n",
    "        if kondisi3:"
   ]
  },
  {
   "cell_type": "code",
   "execution_count": 8,
   "id": "93a56267-a234-4746-ac83-a8b6ad3de2ba",
   "metadata": {},
   "outputs": [
    {
     "name": "stdout",
     "output_type": "stream",
     "text": [
      "0\n",
      "1\n",
      "2\n",
      "3\n",
      "4\n",
      "5\n",
      "6\n",
      "7\n",
      "8\n",
      "9\n",
      "10\n"
     ]
    }
   ],
   "source": [
    "for i in range(1000):\n",
    "    print(i)\n",
    "    if i == 10:\n",
    "        break"
   ]
  },
  {
   "cell_type": "code",
   "execution_count": 10,
   "id": "e02eb825-5d80-4aaa-81e3-a94ae73b65d1",
   "metadata": {},
   "outputs": [
    {
     "name": "stdout",
     "output_type": "stream",
     "text": [
      "0\n",
      "1\n",
      "2\n",
      "3\n",
      "4\n",
      "5\n",
      "6\n",
      "7\n",
      "8\n",
      "9\n"
     ]
    }
   ],
   "source": [
    "for i in range(1000):\n",
    "    if i == 10:\n",
    "        break\n",
    "    print(i)"
   ]
  },
  {
   "cell_type": "code",
   "execution_count": 12,
   "id": "248a26df-079f-4106-a479-8e8f44b0a86e",
   "metadata": {},
   "outputs": [
    {
     "name": "stdout",
     "output_type": "stream",
     "text": [
      "0\n",
      "1\n",
      "2\n",
      "3\n",
      "4\n",
      "6\n",
      "7\n",
      "8\n",
      "9\n"
     ]
    }
   ],
   "source": [
    "for i in range(10):\n",
    "    if i == 5:\n",
    "        continue\n",
    "    print(i)"
   ]
  },
  {
   "cell_type": "code",
   "execution_count": 50,
   "id": "6be443c2-6cc2-4d1f-9976-59b8d6476089",
   "metadata": {},
   "outputs": [
    {
     "name": "stdin",
     "output_type": "stream",
     "text": [
      "Masukkan bilangan yang ingin dicari primanya:  21\n"
     ]
    },
    {
     "name": "stdout",
     "output_type": "stream",
     "text": [
      "19\n"
     ]
    }
   ],
   "source": [
    "#Latihan 6.1\n",
    "bilangan_n = int(input(\"Masukkan bilangan yang ingin dicari primanya: \")) \n",
    "\n",
    "for j in range(bilangan_n-1,0,-1):\n",
    "    flag = 0\n",
    "    for i in range(1, j + 1):\n",
    "        if j % i == 0:\n",
    "            flag += 1\n",
    "        \n",
    "    if flag == 2:\n",
    "        print(j)\n",
    "        break"
   ]
  },
  {
   "cell_type": "code",
   "execution_count": 54,
   "id": "27e44386-a787-4e1b-84b3-91abd818a210",
   "metadata": {},
   "outputs": [
    {
     "name": "stdin",
     "output_type": "stream",
     "text": [
      "Masukkan n:  6\n"
     ]
    },
    {
     "name": "stdout",
     "output_type": "stream",
     "text": [
      "720 6 5 4 3 2 1 \n",
      "120 5 4 3 2 1 \n",
      "24 4 3 2 1 \n",
      "6 3 2 1 \n",
      "2 2 1 \n",
      "1 1 \n"
     ]
    }
   ],
   "source": [
    "#Latihan 6.2\n",
    "deret_n = int(input(\"Masukkan n: \"))\n",
    "\n",
    "for j in range (deret_n, 0, -1):\n",
    "    hasil = 1\n",
    "    for i in range(j,0,-1):\n",
    "        hasil *= i\n",
    "    print(hasil,end=' ')\n",
    "\n",
    "    for i in range(j,0,-1):\n",
    "        print(i,end=' ')\n",
    "    print()"
   ]
  },
  {
   "cell_type": "code",
   "execution_count": 56,
   "id": "d02da87a-9c61-42ae-b093-966e692e96b5",
   "metadata": {},
   "outputs": [
    {
     "name": "stdin",
     "output_type": "stream",
     "text": [
      "Masukkan tinggi:\n",
      ">> 5\n",
      "Masukkan lebar:\n",
      ">> 4\n"
     ]
    },
    {
     "name": "stdout",
     "output_type": "stream",
     "text": [
      "1 2 3 4 \n",
      "5 6 7 8 \n",
      "9 10 11 12 \n",
      "13 14 15 16 \n",
      "17 18 19 20 \n"
     ]
    }
   ],
   "source": [
    "#Latihan 6.3\n",
    "tinggi = int(input(\"Masukkan tinggi:\\n>>\"))\n",
    "lebar = int(input(\"Masukkan lebar:\\n>>\"))\n",
    "\n",
    "nilai = 1\n",
    "for i in range(tinggi):\n",
    "    for j in range(lebar):\n",
    "        print(nilai, end=\" \")\n",
    "        nilai += 1\n",
    "    print()"
   ]
  },
  {
   "cell_type": "code",
   "execution_count": null,
   "id": "81451a9d-c4dc-4e97-889c-6a688c2d0cf0",
   "metadata": {},
   "outputs": [],
   "source": []
  }
 ],
 "metadata": {
  "kernelspec": {
   "display_name": "Python [conda env:base] *",
   "language": "python",
   "name": "conda-base-py"
  },
  "language_info": {
   "codemirror_mode": {
    "name": "ipython",
    "version": 3
   },
   "file_extension": ".py",
   "mimetype": "text/x-python",
   "name": "python",
   "nbconvert_exporter": "python",
   "pygments_lexer": "ipython3",
   "version": "3.12.7"
  }
 },
 "nbformat": 4,
 "nbformat_minor": 5
}
