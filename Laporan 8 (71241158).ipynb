{
 "cells": [
  {
   "cell_type": "code",
   "execution_count": 4,
   "id": "8869af6e-fb40-4f85-a373-6c3d5f40822e",
   "metadata": {},
   "outputs": [
    {
     "name": "stdout",
     "output_type": "stream",
     "text": [
      "Sasuke\n",
      "t\n",
      "b\n",
      "u\n",
      "N\n"
     ]
    }
   ],
   "source": [
    "#Contoh 1\n",
    "namaku = \"Justin William\"\n",
    "temanku1 = \"Naruto\"\n",
    "temanku2 = \"Sasuke\"\n",
    "temanku3 = \"Gamabunta\"\n",
    "\n",
    "print (temanku2)\n",
    "print(namaku[3])\n",
    "print(temanku3[4])\n",
    "print(temanku1[3])\n",
    "\n",
    "huruf = temanku1[0]\n",
    "print(huruf)"
   ]
  },
  {
   "cell_type": "code",
   "execution_count": 8,
   "id": "6310ad1f-96a8-4271-8034-e70e5aab2990",
   "metadata": {},
   "outputs": [
    {
     "name": "stdout",
     "output_type": "stream",
     "text": [
      "True\n",
      "True\n",
      "False\n"
     ]
    }
   ],
   "source": [
    "#Contoh 2\n",
    "word = \"Halo, selamat pagi\"\n",
    "data = \"Halo\"\n",
    "print(data in word)\n",
    "print(\"selamat\" in word)\n",
    "print(\"malam\" in word)"
   ]
  },
  {
   "cell_type": "code",
   "execution_count": 14,
   "id": "47044483-1a7c-4415-9bf6-c2acf9790de2",
   "metadata": {},
   "outputs": [
    {
     "name": "stdout",
     "output_type": "stream",
     "text": [
      "Yes\n",
      "Equal\n"
     ]
    }
   ],
   "source": [
    "#Contoh 3\n",
    "if \"Kamu\" > \"Anda\":\n",
    "    print(\"Yes\")\n",
    "else:\n",
    "    print(\"No\")\n",
    "\n",
    "if \"two\" == \"two\":\n",
    "    print(\"Equal\")"
   ]
  },
  {
   "cell_type": "code",
   "execution_count": 36,
   "id": "6a4ddc4b-10ce-497f-bc1e-6865316ed28f",
   "metadata": {},
   "outputs": [
    {
     "name": "stdout",
     "output_type": "stream",
     "text": [
      "41\n",
      "a\n",
      "a\n",
      "S\n"
     ]
    }
   ],
   "source": [
    "#Contoh 4\n",
    "words = \"Universitas Kristen Satya Wacana Salatiga\"\n",
    "print(len(words))\n",
    "\n",
    "last = words[len(words)-1]\n",
    "print(last)\n",
    "\n",
    "last_v2 = words[-1]\n",
    "print(last_v2)\n",
    "\n",
    "last2 = words [-8]\n",
    "print(last2)"
   ]
  },
  {
   "cell_type": "code",
   "execution_count": 46,
   "id": "ab9774fd-2124-4add-aef2-8716bb1293be",
   "metadata": {},
   "outputs": [
    {
     "name": "stdout",
     "output_type": "stream",
     "text": [
      "I n d o n e s i a   J a y a "
     ]
    }
   ],
   "source": [
    "#Contoh 5\n",
    "words = \"Indonesia Jaya\"\n",
    "i = 0\n",
    "while i < len(words):\n",
    "    print(words[i], end=\" \")\n",
    "    i += 1"
   ]
  },
  {
   "cell_type": "code",
   "execution_count": 48,
   "id": "1a4c38b0-057f-48f3-bf5a-2ed2a7c2657f",
   "metadata": {},
   "outputs": [
    {
     "name": "stdout",
     "output_type": "stream",
     "text": [
      "I n d o n e s i a   J a y a "
     ]
    }
   ],
   "source": [
    "#Contoh 6\n",
    "words = \"Indonesia Jaya\"\n",
    "for word in words:\n",
    "    print(word, end=\" \")"
   ]
  },
  {
   "cell_type": "code",
   "execution_count": 50,
   "id": "fc3d79b5-584e-478d-ac04-a129683d1906",
   "metadata": {},
   "outputs": [
    {
     "name": "stdout",
     "output_type": "stream",
     "text": [
      "Urban \n",
      "egends\n",
      "Urban\n",
      " Legends\n",
      "Urban Legends\n"
     ]
    }
   ],
   "source": [
    "#Contoh 7\n",
    "words = \"Urban Legends\"\n",
    "first = 0\n",
    "last = 6\n",
    "print(words [first:last])\n",
    "print(words[7:len(words)])\n",
    "print(words[:5])\n",
    "print(words[5:])\n",
    "print(words[:])"
   ]
  },
  {
   "cell_type": "code",
   "execution_count": 52,
   "id": "f3ceb4f0-8a2e-40c8-9995-7d4aa2bf8e80",
   "metadata": {},
   "outputs": [
    {
     "name": "stdout",
     "output_type": "stream",
     "text": [
      "Siapa Kalian\n",
      "RepeatRepeatRepeatRepeat\n",
      "Repeat Repeat \n"
     ]
    }
   ],
   "source": [
    "#Contoh 8\n",
    "word1 = \"Siapa\"\n",
    "word2 = \"Kalian\"\n",
    "word3 = word1 + \" \" + word2\n",
    "print(word3)\n",
    "word4 = \"Repeat\"\n",
    "print(word4 * 4)\n",
    "word4 = \"Repeat \"\n",
    "print(word4 * 2)"
   ]
  },
  {
   "cell_type": "code",
   "execution_count": 76,
   "id": "ec65ded8-dea6-4632-8667-84f5b345660f",
   "metadata": {},
   "outputs": [
    {
     "name": "stdout",
     "output_type": "stream",
     "text": [
      "08/17/1945\n"
     ]
    }
   ],
   "source": [
    "#Contoh 9\n",
    "words = \"Saudara-saudara sekalian, pada tanggal 17-08-1945 bangsa Indonesia merdeka\"\n",
    "hasil = words.split(\" \")\n",
    "for word in hasil:\n",
    "    if word[0].isdigit():\n",
    "        hasil2 = word.split(\"-\")\n",
    "        print(hasil2[1]+\"/\"+hasil2[0]+\"/\"+hasil2[2])"
   ]
  },
  {
   "cell_type": "code",
   "execution_count": 78,
   "id": "20798ca7-0088-4167-8cb5-90a3a97362c8",
   "metadata": {},
   "outputs": [
    {
     "ename": "FileNotFoundError",
     "evalue": "[Errno 2] No such file or directory: 'mbox-short.txt'",
     "output_type": "error",
     "traceback": [
      "\u001b[1;31m---------------------------------------------------------------------------\u001b[0m",
      "\u001b[1;31mFileNotFoundError\u001b[0m                         Traceback (most recent call last)",
      "Cell \u001b[1;32mIn[78], line 3\u001b[0m\n\u001b[0;32m      1\u001b[0m \u001b[38;5;66;03m#Contoh 10\u001b[39;00m\n\u001b[0;32m      2\u001b[0m \u001b[38;5;28;01mimport\u001b[39;00m \u001b[38;5;21;01mre\u001b[39;00m\n\u001b[1;32m----> 3\u001b[0m handle\u001b[38;5;241m=\u001b[39m\u001b[38;5;28mopen\u001b[39m(\u001b[38;5;124m'\u001b[39m\u001b[38;5;124mmbox-short.txt\u001b[39m\u001b[38;5;124m'\u001b[39m)\n\u001b[0;32m      4\u001b[0m count \u001b[38;5;241m=\u001b[39m \u001b[38;5;241m0\u001b[39m\n\u001b[0;32m      5\u001b[0m \u001b[38;5;28;01mfor\u001b[39;00m line \u001b[38;5;129;01min\u001b[39;00m handle:\n",
      "File \u001b[1;32m~\\anaconda3\\Lib\\site-packages\\IPython\\core\\interactiveshell.py:324\u001b[0m, in \u001b[0;36m_modified_open\u001b[1;34m(file, *args, **kwargs)\u001b[0m\n\u001b[0;32m    317\u001b[0m \u001b[38;5;28;01mif\u001b[39;00m file \u001b[38;5;129;01min\u001b[39;00m {\u001b[38;5;241m0\u001b[39m, \u001b[38;5;241m1\u001b[39m, \u001b[38;5;241m2\u001b[39m}:\n\u001b[0;32m    318\u001b[0m     \u001b[38;5;28;01mraise\u001b[39;00m \u001b[38;5;167;01mValueError\u001b[39;00m(\n\u001b[0;32m    319\u001b[0m         \u001b[38;5;124mf\u001b[39m\u001b[38;5;124m\"\u001b[39m\u001b[38;5;124mIPython won\u001b[39m\u001b[38;5;124m'\u001b[39m\u001b[38;5;124mt let you open fd=\u001b[39m\u001b[38;5;132;01m{\u001b[39;00mfile\u001b[38;5;132;01m}\u001b[39;00m\u001b[38;5;124m by default \u001b[39m\u001b[38;5;124m\"\u001b[39m\n\u001b[0;32m    320\u001b[0m         \u001b[38;5;124m\"\u001b[39m\u001b[38;5;124mas it is likely to crash IPython. If you know what you are doing, \u001b[39m\u001b[38;5;124m\"\u001b[39m\n\u001b[0;32m    321\u001b[0m         \u001b[38;5;124m\"\u001b[39m\u001b[38;5;124myou can use builtins\u001b[39m\u001b[38;5;124m'\u001b[39m\u001b[38;5;124m open.\u001b[39m\u001b[38;5;124m\"\u001b[39m\n\u001b[0;32m    322\u001b[0m     )\n\u001b[1;32m--> 324\u001b[0m \u001b[38;5;28;01mreturn\u001b[39;00m io_open(file, \u001b[38;5;241m*\u001b[39margs, \u001b[38;5;241m*\u001b[39m\u001b[38;5;241m*\u001b[39mkwargs)\n",
      "\u001b[1;31mFileNotFoundError\u001b[0m: [Errno 2] No such file or directory: 'mbox-short.txt'"
     ]
    }
   ],
   "source": [
    "#Contoh 10\n",
    "import re\n",
    "handle=open('mbox-short.txt')\n",
    "count = 0\n",
    "for line in handle:\n",
    "    line=line.rstrip()\n",
    "    if re.search('From:', line):\n",
    "        count += 1\n",
    "        print(line)\n",
    "        print(\"Count: \", count)"
   ]
  },
  {
   "cell_type": "code",
   "execution_count": 82,
   "id": "b19c50b1-5246-49dd-ad88-bbc8a4ed9113",
   "metadata": {},
   "outputs": [
    {
     "name": "stdin",
     "output_type": "stream",
     "text": [
      "Masukkan kata pertama:  kasur rusak\n",
      "Masukkan kata kedua:  kasur rusak\n"
     ]
    },
    {
     "name": "stdout",
     "output_type": "stream",
     "text": [
      "'kasur rusak' dan 'kasur rusak' adalah anagram.\n"
     ]
    }
   ],
   "source": [
    "#latihan 8.1\n",
    "def cek_anagram(kata1, kata2):\n",
    "    hitung1 = {}\n",
    "    hitung2 = {}\n",
    "    \n",
    "    for huruf in kata1:\n",
    "        if huruf != \" \":\n",
    "            huruf = huruf.lower()\n",
    "            if huruf in hitung1:\n",
    "                hitung1[huruf] += 1\n",
    "            else:\n",
    "                hitung1[huruf] = 1\n",
    "\n",
    "    for huruf in kata2:\n",
    "        if huruf != \" \":\n",
    "            huruf = huruf.lower()\n",
    "            if huruf in hitung2:\n",
    "                hitung2[huruf] += 1\n",
    "            else:\n",
    "                hitung2[huruf] = 1\n",
    "\n",
    "    return hitung1 == hitung2\n",
    "\n",
    "kata1 = input(\"Masukkan kata pertama: \")\n",
    "kata2 = input(\"Masukkan kata kedua: \")\n",
    "\n",
    "if cek_anagram(kata1, kata2):\n",
    "    print(f\"'{kata1}' dan '{kata2}' adalah anagram.\")\n",
    "else:\n",
    "    print(f\"'{kata1}' dan '{kata2}' bukan anagram.\")\n"
   ]
  },
  {
   "cell_type": "code",
   "execution_count": 90,
   "id": "4a936646-c3e6-4032-9ef9-5b23a074efed",
   "metadata": {},
   "outputs": [
    {
     "name": "stdin",
     "output_type": "stream",
     "text": [
      "Masukkan kalimat:  \"Saya mau makan. Makan itu wajib. Mau siang atau malam saya wajib makan\n",
      "Masukkan kata yang ingin dihitung:  makan\n"
     ]
    },
    {
     "name": "stdout",
     "output_type": "stream",
     "text": [
      "Kata  {'makan'}  muncul sebanyak {3} kali.\n"
     ]
    }
   ],
   "source": [
    "#Latihan 8.2\n",
    "kalimat = input(\"Masukkan kalimat: \")\n",
    "kata_cari = input(\"Masukkan kata yang ingin dihitung: \")\n",
    "daftar_kata = kalimat.lower().split()\n",
    "jumlah = 0\n",
    "for kata in daftar_kata:\n",
    "    kata = kata.strip('.,!?')\n",
    "    if kata == kata_cari.lower():\n",
    "        jumlah += 1\n",
    "\n",
    "print(f\"Kata \",{kata_cari}, \" muncul sebanyak\",{jumlah}, \"kali.\")"
   ]
  },
  {
   "cell_type": "code",
   "execution_count": 104,
   "id": "c6afdd11-1ba2-4314-87b5-3167d75b3dae",
   "metadata": {},
   "outputs": [
    {
     "name": "stdin",
     "output_type": "stream",
     "text": [
      "Masukkan kalimat:  Saya tidak suka memancing ikan \n"
     ]
    },
    {
     "name": "stdout",
     "output_type": "stream",
     "text": [
      "Hasil: 'Saya tidak suka memancing ikan'\n"
     ]
    }
   ],
   "source": [
    "#Latihan 8.3\n",
    "kalimat = input(\"Masukkan kalimat: \")\n",
    "kalimat_bersih = ' '.join(kalimat.split())\n",
    "print(f\"Hasil: '{kalimat_bersih}'\")"
   ]
  },
  {
   "cell_type": "code",
   "execution_count": 108,
   "id": "4f497883-ee6f-4c12-962a-f2803209af22",
   "metadata": {},
   "outputs": [
    {
     "name": "stdin",
     "output_type": "stream",
     "text": [
      "Masukkan kalimat:  red snakes and a black frog in the pool\n"
     ]
    },
    {
     "name": "stdout",
     "output_type": "stream",
     "text": [
      "Terpendek: a\n",
      "Terpanjang: snakes\n"
     ]
    }
   ],
   "source": [
    "#Latihan 8.4\n",
    "kalimat = input(\"Masukkan kalimat: \")\n",
    "daftar_kata = kalimat.split()\n",
    "kata_terpendek = daftar_kata[0]\n",
    "kata_terpanjang = daftar_kata[0]\n",
    "for kata in daftar_kata:\n",
    "    if len(kata) < len(kata_terpendek):\n",
    "        kata_terpendek = kata\n",
    "    if len(kata) > len(kata_terpanjang):\n",
    "        kata_terpanjang = kata\n",
    "\n",
    "print(f\"Terpendek: {kata_terpendek}\")\n",
    "print(f\"Terpanjang: {kata_terpanjang}\")"
   ]
  },
  {
   "cell_type": "code",
   "execution_count": 114,
   "id": "89375fba-feee-41de-ad6d-ab3c26ab1af2",
   "metadata": {},
   "outputs": [
    {
     "name": "stdin",
     "output_type": "stream",
     "text": [
      "Masukkan teks:  Pada tanggal 1945-08-17 Indonesia merdeka. Indonesia memiliki beberapa pahlawan nasional, seperti Pangeran Diponegoro (TL: 1785-11-11), Pattimura (TL: 1783-06-08) dan Ki Hajar Dewantara (1889-05-02).\n"
     ]
    },
    {
     "name": "stdout",
     "output_type": "stream",
     "text": [
      "1945-08-17 00:00:00 selisih 29108 hari\n",
      "1785-11-11 00:00:00 selisih 87460 hari\n",
      "1783-06-08 00:00:00 selisih 88347 hari\n",
      "1889-05-02 00:00:00 selisih 49668 hari\n"
     ]
    }
   ],
   "source": [
    "#Latihan 8.5\n",
    "import re\n",
    "from datetime import datetime\n",
    "teks = input(\"Masukkan teks: \")\n",
    "tanggal_ditemukan = re.findall(r'\\d{4}-\\d{2}-\\d{2}', teks)\n",
    "tanggal_sekarang = datetime.now()\n",
    "for tanggal_str in tanggal_ditemukan:\n",
    "    tanggal_obj = datetime.strptime(tanggal_str, \"%Y-%m-%d\")\n",
    "    selisih_hari_total = (tanggal_sekarang - tanggal_obj).days\n",
    "    tanggal_format_baru = tanggal_obj.strftime(\"%Y-%m-%d\")\n",
    "    print(f\"{tanggal_format_baru} 00:00:00 selisih {selisih_hari_total} hari\")"
   ]
  },
  {
   "cell_type": "code",
   "execution_count": 122,
   "id": "0c9a4527-75ff-4773-b0b2-a7f7811e009c",
   "metadata": {},
   "outputs": [
    {
     "name": "stdin",
     "output_type": "stream",
     "text": [
      "Masukkan teks:  anton@mail.com dimiliki oleh antonius budi@gmail.co.id dimiliki oleh budi anwari slamet@getnada.com dimiliki oleh slamet slumut matahari@tokopedia.com dimiliki oleh toko matahari\n"
     ]
    },
    {
     "name": "stdout",
     "output_type": "stream",
     "text": [
      "=======================PASSWORD=============================\n",
      "anton@mail.com username: anton, password: XBDQAe8h\n",
      "=======================PASSWORD=============================\n",
      "budi@gmail.co.id username: budi, password: 3gYr5Kw1\n",
      "=======================PASSWORD=============================\n",
      "slamet@getnada.com username: slamet, password: QD0e9FmR\n",
      "=======================PASSWORD=============================\n",
      "matahari@tokopedia.com username: matahari, password: HDKR2aP9\n"
     ]
    }
   ],
   "source": [
    "#Latihan 8.6\n",
    "import re\n",
    "import random\n",
    "import string\n",
    "teks = input(\"Masukkan teks: \")\n",
    "email_ditemukan = re.findall(r'[\\w\\.-]+@[\\w\\.-]+', teks)\n",
    "for email in email_ditemukan:\n",
    "    username = email.split('@')[0]\n",
    "    karakter = string.ascii_letters + string.digits\n",
    "    password = ''.join(random.choice(karakter) for _ in range(8))\n",
    "    print(\"=======================PASSWORD=============================\")\n",
    "    print(f\"{email} username: {username}, password: {password}\")"
   ]
  },
  {
   "cell_type": "code",
   "execution_count": null,
   "id": "99173a59-729a-4876-94ed-696ed3b5b2c7",
   "metadata": {},
   "outputs": [],
   "source": []
  }
 ],
 "metadata": {
  "kernelspec": {
   "display_name": "Python [conda env:base] *",
   "language": "python",
   "name": "conda-base-py"
  },
  "language_info": {
   "codemirror_mode": {
    "name": "ipython",
    "version": 3
   },
   "file_extension": ".py",
   "mimetype": "text/x-python",
   "name": "python",
   "nbconvert_exporter": "python",
   "pygments_lexer": "ipython3",
   "version": "3.12.7"
  }
 },
 "nbformat": 4,
 "nbformat_minor": 5
}
