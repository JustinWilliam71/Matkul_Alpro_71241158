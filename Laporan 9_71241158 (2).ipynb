{
 "cells": [
  {
   "cell_type": "code",
   "execution_count": null,
   "id": "dc0eba4a-a3c3-42a9-8f2b-794b310652eb",
   "metadata": {},
   "outputs": [],
   "source": [
    "#Contoh 1\n",
    "handle = open(\"mbox.laporan.txt\")\n",
    "print(handle)"
   ]
  },
  {
   "cell_type": "code",
   "execution_count": null,
   "id": "5027efca-f17e-426f-b29a-2f2d15071162",
   "metadata": {},
   "outputs": [],
   "source": [
    "#Contoh 2\n",
    "handle = open(\"mbox.laporan.txt\")\n",
    "count = 0\n",
    "for line in handle:\n",
    "    count += 1\n",
    "print(\"Line Count: \", count)"
   ]
  },
  {
   "cell_type": "code",
   "execution_count": null,
   "id": "19684ecf-4d25-4230-91b4-290ffd1bbea6",
   "metadata": {},
   "outputs": [],
   "source": [
    "#Contoh 3\n",
    "handle = open(\"mbox.laporan.txt\")\n",
    "hasil = handle.read()\n",
    "print(\"Ukuran: \" + str(len(hasil)) + \"bytes\")\n",
    "print(\"Huruf dari belakang sendiri mundur 16: \" + hasil[-16])"
   ]
  },
  {
   "cell_type": "code",
   "execution_count": null,
   "id": "50688080-757f-4236-869c-0df86a00ba81",
   "metadata": {},
   "outputs": [],
   "source": [
    "#Contoh 4\n",
    "handle = open(\"mbox.laporan.txt\")\n",
    "count = 1\n",
    "for line in handle:\n",
    "    if line.startswith(\"From\") and count <= 10:\n",
    "        count += 1\n",
    "        print(line)"
   ]
  },
  {
   "cell_type": "code",
   "execution_count": null,
   "id": "118a17f7-76a7-428e-982e-f704cbb90fe5",
   "metadata": {},
   "outputs": [],
   "source": [
    "#Contoh 5\n",
    "handle = open(\"Laporan.txt\", \"w\")\n",
    "kata_kata = \"Lebih baik menjadi orang baik daripada penjilat\"\n",
    "handle.write(kata_kata)\n",
    "handle.close()"
   ]
  },
  {
   "cell_type": "code",
   "execution_count": null,
   "id": "13e2797d-a597-422c-8d61-c1b6e8183d4e",
   "metadata": {},
   "outputs": [],
   "source": [
    "#Soal 1\n",
    "def bandingkan_file(nama_file1, nama_file2):\n",
    "    with open(nama_file1) as f1, open(nama_file2) as f2:\n",
    "        baris1 = f1.readlines()\n",
    "        baris2 = f2.readlines()\n",
    "\n",
    "    print(\"Perbedaan antar file:\")\n",
    "    berbeda = False\n",
    "\n",
    "    panjang = len(baris1) if len(baris1) > len(baris2) else len(baris2)\n",
    "\n",
    "    for i in range(panjang):\n",
    "        line1 = (baris1[i].strip() if i < len(baris1) else \"\")\n",
    "        line2 = (baris2[i].strip() if i < len(baris2) else \"\")\n",
    "\n",
    "        if line1 != line2:\n",
    "            print(f\"\\nBaris {i+1}:\")\n",
    "            print(f\"File 1: {line1}\")\n",
    "            print(f\"File 2: {line2}\")\n",
    "            berbeda = True\n",
    "\n",
    "    if not berbeda:\n",
    "        print(\"Tidak ada perbedaan.\")\n",
    "\n",
    "bandingkan_file(\"teks1.txt\", \"teks2.txt\")"
   ]
  },
  {
   "cell_type": "code",
   "execution_count": null,
   "id": "a2bb2af9-1619-4cd3-82e2-f9f8b9c5b0cb",
   "metadata": {},
   "outputs": [],
   "source": [
    "#Soal 2\n",
    "def evaluasi_soal(nama_file):\n",
    "    print(f\"nama file1: {nama_file}\")\n",
    "    with open(nama_file) as f:\n",
    "        for baris in f:\n",
    "            if '||' in baris:\n",
    "                soal, jawaban = baris.strip().split('||')\n",
    "                soal = soal.strip()\n",
    "                jawaban = jawaban.strip().lower()\n",
    "                print(soal)\n",
    "                user_input = input(\"Jawab: \").strip().lower()\n",
    "                if user_input == jawaban:\n",
    "                    print(\"Jawaban benar!\\n\")\n",
    "                else:\n",
    "                    print(\"Jawaban salah!\\n\")\n",
    "            else:\n",
    "                print(baris.strip())\n",
    "\n",
    "\n",
    "evaluasi_soal(\"Soal.txt\")"
   ]
  }
 ],
 "metadata": {
  "kernelspec": {
   "display_name": "Python [conda env:base] *",
   "language": "python",
   "name": "conda-base-py"
  },
  "language_info": {
   "codemirror_mode": {
    "name": "ipython",
    "version": 3
   },
   "file_extension": ".py",
   "mimetype": "text/x-python",
   "name": "python",
   "nbconvert_exporter": "python",
   "pygments_lexer": "ipython3",
   "version": "3.12.7"
  }
 },
 "nbformat": 4,
 "nbformat_minor": 5
}
