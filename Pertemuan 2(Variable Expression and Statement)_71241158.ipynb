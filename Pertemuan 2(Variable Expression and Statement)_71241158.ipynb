{
 "cells": [
  {
   "cell_type": "code",
   "execution_count": 2,
   "id": "90f48e6f-2562-4a63-b555-bc07635a583d",
   "metadata": {},
   "outputs": [
    {
     "name": "stdout",
     "output_type": "stream",
     "text": [
      "10000\n"
     ]
    }
   ],
   "source": [
    "#Contoh Integer\n",
    "print(10000)"
   ]
  },
  {
   "cell_type": "code",
   "execution_count": 6,
   "id": "3f5fca87-5141-4d7c-98dd-ac3d8ff12410",
   "metadata": {},
   "outputs": [
    {
     "name": "stdout",
     "output_type": "stream",
     "text": [
      "6\n"
     ]
    }
   ],
   "source": [
    "#Contoh Integer\n",
    "print(6)"
   ]
  },
  {
   "cell_type": "code",
   "execution_count": 8,
   "id": "988762da-5de3-44b7-8281-51d129674df1",
   "metadata": {},
   "outputs": [
    {
     "name": "stdout",
     "output_type": "stream",
     "text": [
      "J\n"
     ]
    }
   ],
   "source": [
    "#Contoh String\n",
    "print(\"J\")"
   ]
  },
  {
   "cell_type": "code",
   "execution_count": 10,
   "id": "51eef756-e1c5-4966-9409-febb691ff9f9",
   "metadata": {},
   "outputs": [
    {
     "name": "stdout",
     "output_type": "stream",
     "text": [
      "Halo\n"
     ]
    }
   ],
   "source": [
    "#Contoh String\n",
    "print('Halo')"
   ]
  },
  {
   "cell_type": "code",
   "execution_count": 14,
   "id": "3d004245-e170-4b95-85d2-fecff947aeb5",
   "metadata": {},
   "outputs": [
    {
     "name": "stdout",
     "output_type": "stream",
     "text": [
      "Senang berkenalan denganmu\n"
     ]
    }
   ],
   "source": [
    "#Contoh String\n",
    "print(\"Senang berkenalan denganmu\")"
   ]
  },
  {
   "cell_type": "code",
   "execution_count": 4,
   "id": "122298c9-9607-4058-871e-9ed748bb1d76",
   "metadata": {},
   "outputs": [
    {
     "name": "stdout",
     "output_type": "stream",
     "text": [
      "5 tipenya adalah <class 'int'>\n"
     ]
    }
   ],
   "source": [
    "#Contoh Integer\n",
    "x = 5\n",
    "print(x, \"tipenya adalah\", type(x))"
   ]
  },
  {
   "cell_type": "code",
   "execution_count": 6,
   "id": "1a055d98-e775-4de1-bd42-ae0005909ca7",
   "metadata": {},
   "outputs": [
    {
     "name": "stdout",
     "output_type": "stream",
     "text": [
      "3.14 tipeenya adalah <class 'float'>\n"
     ]
    }
   ],
   "source": [
    "#Contoh Pecahan\n",
    "x = 3.14\n",
    "print(x, \"tipeenya adalah\", type(x))"
   ]
  },
  {
   "cell_type": "code",
   "execution_count": 8,
   "id": "cde4e3fb-2e51-437e-9413-6bef7e521a14",
   "metadata": {},
   "outputs": [
    {
     "name": "stdout",
     "output_type": "stream",
     "text": [
      "(1+2j) tipenya adalah <class 'complex'>\n"
     ]
    }
   ],
   "source": [
    "#Contoh Bilangan Kompleks\n",
    "vari = 1+2j\n",
    "print(vari, \"tipenya adalah\", type(vari))"
   ]
  },
  {
   "cell_type": "code",
   "execution_count": 14,
   "id": "4c55cf6e-a422-4a9b-8665-bb2bce543420",
   "metadata": {},
   "outputs": [
    {
     "name": "stdout",
     "output_type": "stream",
     "text": [
      "12 0 0\n"
     ]
    }
   ],
   "source": [
    "print(12,000,000)"
   ]
  },
  {
   "cell_type": "code",
   "execution_count": 24,
   "id": "0208c0eb-a0a5-46a6-89a3-b619bb1052e3",
   "metadata": {},
   "outputs": [
    {
     "name": "stdout",
     "output_type": "stream",
     "text": [
      "Halo, bagaimana kabarmu hari ini?\n"
     ]
    }
   ],
   "source": [
    "#Contoh Variabel 1\n",
    "greetings = \"Halo, bagaimana kabarmu hari ini?\"\n",
    "print(greetings)"
   ]
  },
  {
   "cell_type": "code",
   "execution_count": 26,
   "id": "82a1f51c-9885-4305-bfa1-48917fccbb73",
   "metadata": {},
   "outputs": [
    {
     "name": "stdout",
     "output_type": "stream",
     "text": [
      "20\n"
     ]
    }
   ],
   "source": [
    "#Contoh Variabel 2\n",
    "usia = 20\n",
    "print(usia)"
   ]
  },
  {
   "cell_type": "code",
   "execution_count": 32,
   "id": "b5770e12-fa3f-4f39-b929-d015e69f3bf2",
   "metadata": {},
   "outputs": [
    {
     "name": "stdout",
     "output_type": "stream",
     "text": [
      "2.71828182\n"
     ]
    }
   ],
   "source": [
    "#Contoh Variabel 3\n",
    "euler = 2.71828182\n",
    "print(euler)"
   ]
  },
  {
   "cell_type": "code",
   "execution_count": 38,
   "id": "9dd2751a-d9be-4e4a-9bc3-fb9de73f643e",
   "metadata": {},
   "outputs": [
    {
     "name": "stdout",
     "output_type": "stream",
     "text": [
      "Halo\n",
      "Selamat Pagi\n"
     ]
    }
   ],
   "source": [
    "#Contoh Variabel\n",
    "hei = \"Halo\"\n",
    "_hei = \"Selamat Pagi\"\n",
    "print(hei)\n",
    "print(_hei)"
   ]
  },
  {
   "cell_type": "code",
   "execution_count": 42,
   "id": "166862d0-d3f6-440b-8a06-6ed0c35a3644",
   "metadata": {},
   "outputs": [
    {
     "name": "stdout",
     "output_type": "stream",
     "text": [
      "20\n"
     ]
    }
   ],
   "source": [
    "#Contoh Variabel Perhitungan\n",
    "panjang = 12\n",
    "lebar = 8\n",
    "luas = panjang + lebar\n",
    "print(luas)"
   ]
  },
  {
   "cell_type": "code",
   "execution_count": 46,
   "id": "aaa4b422-003a-483b-a57a-8a1aacaafb0b",
   "metadata": {},
   "outputs": [
    {
     "name": "stdout",
     "output_type": "stream",
     "text": [
      "20\n",
      "23\n"
     ]
    }
   ],
   "source": [
    "print(20)\n",
    "x = 23\n",
    "print(x)"
   ]
  },
  {
   "cell_type": "code",
   "execution_count": 70,
   "id": "302c1614-5901-44f6-b0f7-5aaef92aad26",
   "metadata": {},
   "outputs": [
    {
     "name": "stdout",
     "output_type": "stream",
     "text": [
      "Ini hasil penambahan\n",
      ">> 5\n",
      "Ini hasil pengurangan\n",
      ">> 1\n",
      "ini hasil perkalian\n",
      ">> 6\n",
      "Ini hasil pembagian\n",
      ">> 3.0\n",
      "Hasil perpangkatan\n",
      ">> 9\n"
     ]
    }
   ],
   "source": [
    "#Operator + untuk menjumlahkan dua buah operand\n",
    "tambah = 2 + 3\n",
    "print(\"Ini hasil penambahan\\n>>\", tambah)\n",
    "\n",
    "#Operator - untuk mengurangkan dua buah operand\n",
    "kurang = 3 - 2\n",
    "print(\"Ini hasil pengurangan\\n>>\", kurang)\n",
    "\n",
    "#Operator * untuk mengalikan dua buah operand\n",
    "kali = 3 * 2\n",
    "print(\"ini hasil perkalian\\n>>\", kali)\n",
    "\n",
    "#Operator / untuk membagi dua buah operand\n",
    "bagi = 6 / 2\n",
    "print(\"Ini hasil pembagian\\n>>\", bagi)\n",
    "\n",
    "#Operator ** untuk memangkatkan sebuah bilangan atau operand\n",
    "pangkat = 3**2\n",
    "print(\"Hasil perpangkatan\\n>>\", pangkat)"
   ]
  },
  {
   "cell_type": "code",
   "execution_count": 74,
   "id": "b3836dce-9407-4113-8352-c807de76a502",
   "metadata": {},
   "outputs": [
    {
     "data": {
      "text/plain": [
       "8"
      ]
     },
     "execution_count": 74,
     "metadata": {},
     "output_type": "execute_result"
    }
   ],
   "source": [
    "#Contoh Expression\n",
    "3 + 5"
   ]
  },
  {
   "cell_type": "code",
   "execution_count": 76,
   "id": "064a976d-ac4d-44e6-bdf1-0426c694bce9",
   "metadata": {},
   "outputs": [
    {
     "name": "stdout",
     "output_type": "stream",
     "text": [
      "1\n"
     ]
    }
   ],
   "source": [
    "#Contoh Modulus\n",
    "Modul = 5 % 2\n",
    "print(Modul)"
   ]
  },
  {
   "cell_type": "code",
   "execution_count": 10,
   "id": "7626f026-28fe-4f15-9ac0-b7326d2c7a32",
   "metadata": {},
   "outputs": [
    {
     "name": "stdout",
     "output_type": "stream",
     "text": [
      "50\n"
     ]
    }
   ],
   "source": [
    "#Contoh String 1\n",
    "angkaini = 30\n",
    "angkaitu = 20\n",
    "print(angkaini + angkaitu)"
   ]
  },
  {
   "cell_type": "code",
   "execution_count": 14,
   "id": "d20434f6-7e59-45a7-bedf-ac87b9cdaa4b",
   "metadata": {},
   "outputs": [
    {
     "name": "stdout",
     "output_type": "stream",
     "text": [
      "300250\n"
     ]
    }
   ],
   "source": [
    "#Contoh String 2\n",
    "angkaini = '300'\n",
    "angkaitu = '250'\n",
    "print(angkaini + angkaitu)"
   ]
  },
  {
   "cell_type": "code",
   "execution_count": 22,
   "id": "db2cb91f-7272-486b-98b3-2d56bd5d151c",
   "metadata": {},
   "outputs": [
    {
     "name": "stdout",
     "output_type": "stream",
     "text": [
      "Haloo Haloo \n"
     ]
    }
   ],
   "source": [
    "#Contoh String 3\n",
    "varisatu = 'Haloo '\n",
    "varidua = 2\n",
    "print(varisatu * varidua)"
   ]
  },
  {
   "cell_type": "code",
   "execution_count": 34,
   "id": "24208402-cda3-4331-8868-37b32dbc8b53",
   "metadata": {},
   "outputs": [
    {
     "name": "stdin",
     "output_type": "stream",
     "text": [
      " Halo\n"
     ]
    },
    {
     "name": "stdout",
     "output_type": "stream",
     "text": [
      "Halo\n"
     ]
    }
   ],
   "source": [
    "#Contoh Input\n",
    "masuk = input()\n",
    "print(masuk)"
   ]
  },
  {
   "cell_type": "code",
   "execution_count": 32,
   "id": "ed443c29-db8d-4c13-a5fe-abfe2aa5c777",
   "metadata": {},
   "outputs": [
    {
     "name": "stdin",
     "output_type": "stream",
     "text": [
      "Kamu berkuliah dimana?\n",
      " UKDW\n"
     ]
    },
    {
     "name": "stdout",
     "output_type": "stream",
     "text": [
      "kamu sedang berkuliah di UKDW\n"
     ]
    }
   ],
   "source": [
    "#Contoh Input 2\n",
    "kampus = input(\"Kamu berkuliah dimana?\\n\")\n",
    "print(\"kamu sedang berkuliah di\", kampus)"
   ]
  },
  {
   "cell_type": "code",
   "execution_count": 36,
   "id": "e542a6a2-7197-4a83-a70b-488cc41681db",
   "metadata": {},
   "outputs": [
    {
     "name": "stdout",
     "output_type": "stream",
     "text": [
      "Haloo halooo\n"
     ]
    }
   ],
   "source": [
    "#Contoh Komentar\n",
    "print(\"Haloo halooo\") #Ini komentar"
   ]
  },
  {
   "cell_type": "code",
   "execution_count": 56,
   "id": "ba983dc4-d104-47bf-b8a3-1564d9fd2962",
   "metadata": {},
   "outputs": [
    {
     "name": "stdin",
     "output_type": "stream",
     "text": [
      "Masukkan berat badan dalam satuan kilogram\n",
      " 66\n",
      "Masukkan tinggi badan dalam satuan meter\n",
      " 1.7\n"
     ]
    },
    {
     "name": "stdout",
     "output_type": "stream",
     "text": [
      "BMI anda adalah: 22.84\n"
     ]
    }
   ],
   "source": [
    "#Latihan 2.1 (BMI)\n",
    "berat = float(input(\"Masukkan berat badan dalam satuan kilogram\\n\"))\n",
    "tinggi = float(input(\"Masukkan tinggi badan dalam satuan meter\\n\"))\n",
    "\n",
    "BMI = berat / (tinggi ** 2)\n",
    "print(f\"BMI anda adalah: {BMI:.2f}\")"
   ]
  },
  {
   "cell_type": "code",
   "execution_count": 36,
   "id": "68656fa3-f37b-44d8-b81b-f760bb842060",
   "metadata": {},
   "outputs": [
    {
     "name": "stdin",
     "output_type": "stream",
     "text": [
      "Masukkan nilai x:\n",
      " 3\n"
     ]
    },
    {
     "name": "stdout",
     "output_type": "stream",
     "text": [
      "hasil dari (3.0):\n",
      " 60.2\n"
     ]
    }
   ],
   "source": [
    "#Latihan 2.2\n",
    "def hitung_persamaan (x):\n",
    "    itu = 2*x**3 + 2*x + x/15\n",
    "    return(itu)\n",
    "\n",
    "x = float(input(\"Masukkan nilai x:\\n\"))\n",
    "hasil = hitung_persamaan (x)\n",
    "print(f\"hasil dari ({x}):\\n\", hasil)"
   ]
  },
  {
   "cell_type": "code",
   "execution_count": 14,
   "id": "b7a3f38f-27e8-43b2-9c37-3af52bd6d715",
   "metadata": {},
   "outputs": [
    {
     "name": "stdin",
     "output_type": "stream",
     "text": [
      "Masukkan jumlah gaji yang diinginkan:\n",
      " 25000\n",
      "Jumlah jam kerja dalam seminggu:\n",
      " 45\n"
     ]
    },
    {
     "name": "stdout",
     "output_type": "stream",
     "text": [
      "Pendapatan sebelum pajak\n",
      " 5625000.0\n",
      "Pendapatan setelah pajak\n",
      " 4837500.0\n",
      "Pakaian dan Aksesoris\n",
      " 483750.0\n",
      "Alat Tulis\n",
      " 48375.0\n",
      "Uang untuk sedekah:\n",
      " 1076343.75\n",
      "Untuk Anak Yatim\n",
      " 322800.0\n",
      "Untuk Kaum Dhuafa\n",
      " 753543.75\n"
     ]
    }
   ],
   "source": [
    "#Latihan 2.3\n",
    "#Total Gaji\n",
    "gaji_diinginkan = float(input(\"Masukkan jumlah gaji yang diinginkan dalam satu jam kerja:\\n\"))\n",
    "jam_kerja = float(input(\"Jumlah jam kerja dalam seminggu:\\n\"))\n",
    "total1 = (gaji_diinginkan * jam_kerja)\n",
    "lagi = total1 * 5\n",
    "print(\"Pendapatan sebelum pajak\\n\", lagi)\n",
    "\n",
    "#Pajak Penghasilan (5)\n",
    "pajak = lagi - (lagi * 14 / 100)\n",
    "print(\"Pendapatan setelah pajak\\n\", pajak)\n",
    "\n",
    "#Pakaian dan Aksesoris (6)\n",
    "belanja = pajak * 0.1\n",
    "print(\"Pakaian dan Aksesoris\\n\", belanja)\n",
    "\n",
    "#Alat Tulis (7)\n",
    "alattulis = pajak * 0.01\n",
    "print(\"Alat Tulis\\n\", alattulis)\n",
    "\n",
    "#Sedekah\n",
    "sisa = (pajak - (belanja + alattulis)) * 0.25\n",
    "print(\"Uang untuk sedekah:\\n\", sisa)\n",
    "\n",
    "#Untuk Anak Yatim\n",
    "anak_yatim = (sisa // 1000) * (1000 * 0.3)\n",
    "print(\"Untuk Anak Yatim\\n\", anak_yatim)\n",
    "\n",
    "#Dhuafa\n",
    "dhuafa = sisa - anak_yatim\n",
    "print(\"Untuk Kaum Dhuafa\\n\", dhuafa)"
   ]
  },
  {
   "cell_type": "markdown",
   "id": "c237741c-ad5c-44ee-929d-9682f33aeed0",
   "metadata": {},
   "source": []
  }
 ],
 "metadata": {
  "kernelspec": {
   "display_name": "Python [conda env:base] *",
   "language": "python",
   "name": "conda-base-py"
  },
  "language_info": {
   "codemirror_mode": {
    "name": "ipython",
    "version": 3
   },
   "file_extension": ".py",
   "mimetype": "text/x-python",
   "name": "python",
   "nbconvert_exporter": "python",
   "pygments_lexer": "ipython3",
   "version": "3.12.7"
  }
 },
 "nbformat": 4,
 "nbformat_minor": 5
}
